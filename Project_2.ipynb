{
 "cells": [
  {
   "cell_type": "markdown",
   "id": "90abea25",
   "metadata": {},
   "source": [
    "# Project 2\n",
    "\n",
    "### Scientific Question: Can examing the protein expression levels through RNAseq and analyzing the genomic function through BLAST and GO annotation of tumor protein p63 help us to understand why cancer is rare among Balaenoptera musculu (blue whales) as opposed to Homo sapiens (humans)?\n",
    "\n",
    "Tumor protein p63 is responsible for tumor suppression, regulating cell division by keeping cells from growing and dividing at an uncontrollable rate. The gene responsible for encoding tumor protein p63 is the p63 gene and shows remarkable structural similarities to the p53 and p73 genes, the genes that encode tumor protein p53 and tumor protein p73 (Wu et al., 2003). Due to their astounding structural similarities, these three genes have been phylogenetically analyzed as the same family. However, despite p53 being the first gene to be discovered in the field of tumor suppression, research studies have pointed to p63 as being the original member of the family and p53 and p73 being the evolutionary byproducts of p63 (Skipper, 2007).\n",
    "\n",
    "The genome sequence of tumor protein p63 in Balaenoptera musculus (blue whale) can be found within the NCBI Nucleotide DB (https://www.ncbi.nlm.nih.gov/gene/118894681). The National Center for Biotechnology Information (NCBI) is regarded as a national treasure for molecular biology information. It is one of the largest bioinformatics databases in the US and encompasses numerous sub-databases within its entirety. For our genome sequence, the data was found under the Nucleotide sub-database of NCBI.\n",
    "\n",
    "The protein expression profiles for DeltaNp63 (an isoform of p63) and DeltaNp63 knockout on lung basal cells and lung alveolar type 2 cells in mus musculus (mice) can be found within the NCBI GEO DB (https://www.ncbi.nlm.nih.gov/geo/query/acc.cgi?acc=GSE131671). NCBI GEO is another sub-database of the overarching control center of NCBI. NCBI GEO (Gene Expression Omnibus) is a public functional genomics data repository, focused on gene expression profiles. \n",
    "\n",
    "\n",
    "### Scientific Hypothesis: If the tumor protein p63 in Balaenoptera musculus (blue whale) from publicly available databases shows a difference in function and/or expression levels with p63 in Homo sapiens (human), then analyzing the difference will show why tumor protein p63 (a subset of p53) functions differently across different species and why cancer is rare among certain species (blue whales).\n",
    "\n",
    "The first dataset we will be analyzing is the tumor protein p63 genome sequence in Balaenoptera musculus (blue whale). This dataset was found through Gene searching in NCBI's Nucleotide database. The sequence was then downloaded directly from NCBI as a fasta file. This fasta file was ran through a BLAST search, the first bioinformatics analysis done in this notebook.\n",
    "\n",
    "GO (Gene Ontology) annotation is the identification of functions of a particular gene. By running a gene of interest through GO, we are able to annotate the gene, comparing the gene to database where the previous functional information about similar genes are stored and labelling the gene with a specifc function. In this notebook, GO annotation will be used as a plotting method for the results of the BLAST search.\n",
    "\n",
    "The second dataset we will be analyzing is the DeltaNp63 protein expression data for mus musculus (mice). This dataset was found through the NCBI GEO (Gene Expression Omnibus) database as a txt file. The data itself is the expression levels of certain lung cells such as lung basal cells within mice with the DeltaNp63 gene and mice with DeltaNp63 knockout. Some lung stem cells give rise to lung cancers such as lung adenocarcinoma (ADC) and squamous cell carcinoma (SCC) and our analysis will be used to determine whether the DeltaNp63 is effective for tumor/cancer suppression or growth. To do so, our data will be ran through the bioinformatics method of differential expression analysis (RNAseq) to normalize our read counts and perform statistical analysis to view the quantitative changes in expression levels between cells with DeltaNp63 and cells with DeltaNp63 knockout. \n",
    "\n",
    "Volcano plots are a type of scatter plot that plots a points signficance versus its fold change. The volano plot displayed in this notebook will exemplified as a log fold change versus p-value plot, with p-value indicating signficance. The plot will be able to visualize the whether or not there are data points that are statistically significance from the rest, indicative of the difference. We can then further look into these data points in future experiments to see if the presence of these factor pertain to lung cancer.\n",
    "\n",
    "Despite their substantial size difference, cancer formation humans and mice have been found to be surprisingly similar due to both mice and humans having roughly equal numbers of tumor-suppressor loci and number of required cell mutations for the cancer to fully develop (Leori et al., 2003). Because of this, the results of the protein expression analysis on DeltaNp63 in mice should be a good indication of the functional gene products of DeltaNp63 and its influence on cancer forming genes in humans.\n",
    "\n",
    "### Part 1: Load the Packages\n",
    "\n",
    "Biopython: Biopython is a large set of tools and computation for the Python language that allows for various functions to be performed. In this notebook, the focus of Biopython is to extract functions such as Seq and Blast to perform the necessary bioinformatics analyses. Biopython can also be used to convert our downloaded files into the necessary format/data type for bioinformatics computation (such as seq and xml files). Biopython is essentially the grand library of Python functions commonly used in bioinformatics. To learn more about Biopython, please visit https://biopython.org/\n",
    "\n",
    "Ontobio: Ontology is a branch of metaphysics dealing with the existing, nature, and reality. Ontobio is a library of commands for working with ontology in python.  Some of the tools available in Ontobio include access to gene product funcitonal annotations in GO, access to gene/variant/disease/genotype information from Monarch, and enrichment analysis. In this notebook, Ontobio will be used to annotate the results from the first bioinformatics (the BLAST Hit from the BLAST search). To learn more about Ontobio, please visit https://ontobio.readthedocs.io/en/latest/\n",
    "\n",
    "Rpy2: In the coding world, there are various types of languages that an entry level coder can select from, some of which include R and Python. Rpy2 is a package that allows for the R language to run in a Python process. R has a lot biostatistics focused libraries that Python does not. In this notebook, Rpy2 will help us with the differential expression analysis of our protein expression data and to perform the necessary statistical analysis for plotting. To learn more about Rpy2, please visit https://rpy2.github.io/\n",
    "\n",
    "Bioinfokit: Bioinfokit is a toolkit aimed to analyze, visualize, and interpret the biological data generated by genomics. The package itself is a combination of various common python packages such as NumPy, Pandas, Scipy, and Matplotlib. The package can help visualize data by providing numerous plotting and charting methods. In this notebook, Bioinfokit will be used to produce a volcano plot of our protein expression data. To lean more about Bioinfokit, please visit https://pypi.org/project/bioinfokit/0.3/\n",
    "\n",
    "Pandas: Pandas is one of the most widely used packages for opening and formatting open source data. In this notebook, Pandas will be used to read our txt files and format the data file into a dataframe. A dataframe is essentially a table that can be easily edited through python. Pandas will also help us to save our data analysis by adding rows and columns to our imported dataframe. To learn more about Pandas, please visit https://pandas.pydata.org/\n",
    "\n",
    "Collections: Collections is a package that provides the user with a wider variety of functions for storing data/information. Python inherently has collections such as tuples, lists, and dictionaries built into Python3. However, by importing the entire package, the user will be able to access the various commands to manipulate and edit these collections such as those. In this notebook, Collections will be used to create a list that separates the sample by knockout and wild-type. To learn more about Collections, please visit https://docs.python.org/3/library/collections.html\n",
    "\n",
    "Numpy: Numpy is a package that provides various kinds of mathematical functions into Python. Numpy can also create arrays, another method of tabling data aside from dataframes. Amongst the various mathemactical functions, Numpy can generate random numbers perform linear algebraic functions such as summation. In this notebook, Numpy will be used in differential expression analysis for summation, mean, standard deviation, logarithmic, and basic algebraic functions. To learn more about Numpy, please visit https://numpy.org/\n",
    "\n",
    "Scipy: Scipy is a package that provides algorithms for scientific calculations of data. Scipy essentially allows the user to perform the necessary calculus and statistics calculations for their data. In this notebook, Scipy will be used to access the required functions for performing a ttest on our data. T-tests are a way to test if there is a significant difference between data points/sets. The results from a t-test can usually infer or identify the p-value between the data points/sets. To learn more about Scipy, please visit https://scipy.org/\n",
    "\n",
    "Matplotlib: Matplotlib is a package that allows the user to visualize the results from data analysis or data import. Matplotlib contains numerous types of plotting methods, normally revolving around scatter plots. Scatter plots are a large umbrella term for the numerous types of expression plots used in bioinformatics. In this notebook, matplotlib will be used to provide volcano plot for protein expression analysis. To learn more about Matplotlib, please visit https://matplotlib.org/"
   ]
  },
  {
   "cell_type": "code",
   "execution_count": 10,
   "id": "c48497d4",
   "metadata": {},
   "outputs": [
    {
     "name": "stdout",
     "output_type": "stream",
     "text": [
      "Collecting ontobio\n",
      "  Downloading ontobio-2.7.16-py3-none-any.whl (309 kB)\n",
      "\u001b[K     |████████████████████████████████| 309 kB 2.5 MB/s eta 0:00:01\n",
      "\u001b[?25hCollecting jsonpath-rw>=0.0\n",
      "  Downloading jsonpath-rw-1.4.0.tar.gz (13 kB)\n",
      "Collecting pytest-logging>=0.0\n",
      "  Downloading pytest-logging-2015.11.4.tar.gz (3.9 kB)\n",
      "Requirement already satisfied: pyyaml in /Users/jimmiinguyen/opt/anaconda3/lib/python3.9/site-packages (from ontobio) (6.0)\n",
      "Collecting PyShEx>=0.7.11\n",
      "  Downloading PyShEx-0.8.0-py3-none-any.whl (51 kB)\n",
      "\u001b[K     |████████████████████████████████| 51 kB 1.5 MB/s eta 0:00:011\n",
      "\u001b[?25hRequirement already satisfied: matplotlib>=2.0.0 in /Users/jimmiinguyen/opt/anaconda3/lib/python3.9/site-packages (from ontobio) (3.4.3)\n",
      "Collecting diskcache>=4.0.0\n",
      "  Downloading diskcache-5.4.0-py3-none-any.whl (44 kB)\n",
      "\u001b[K     |████████████████████████████████| 44 kB 3.9 MB/s eta 0:00:011\n",
      "\u001b[?25hCollecting bidict>=0.20.0\n",
      "  Downloading bidict-0.21.4-py3-none-any.whl (36 kB)\n",
      "Requirement already satisfied: plotly>=2.0.7 in /Users/jimmiinguyen/opt/anaconda3/lib/python3.9/site-packages (from ontobio) (4.14.3)\n",
      "Requirement already satisfied: wheel>0.25.0 in /Users/jimmiinguyen/opt/anaconda3/lib/python3.9/site-packages (from ontobio) (0.37.0)\n",
      "Collecting jsonpickle>=0.0\n",
      "  Downloading jsonpickle-2.1.0-py2.py3-none-any.whl (38 kB)\n",
      "Collecting pydotplus>=0.0\n",
      "  Downloading pydotplus-2.0.2.tar.gz (278 kB)\n",
      "\u001b[K     |████████████████████████████████| 278 kB 6.4 MB/s eta 0:00:01\n",
      "\u001b[?25hCollecting jsobject>=0.0\n",
      "  Downloading jsobject-0.10.2.tar.gz (4.4 kB)\n",
      "Requirement already satisfied: pytest>=0.0 in /Users/jimmiinguyen/opt/anaconda3/lib/python3.9/site-packages (from ontobio) (6.2.4)\n",
      "Requirement already satisfied: click in /Users/jimmiinguyen/opt/anaconda3/lib/python3.9/site-packages (from ontobio) (8.0.3)\n",
      "Collecting dacite>=1.6.0\n",
      "  Downloading dacite-1.6.0-py3-none-any.whl (12 kB)\n",
      "Collecting pysolr>=3.6.0\n",
      "  Downloading pysolr-3.9.0.tar.gz (55 kB)\n",
      "\u001b[K     |████████████████████████████████| 55 kB 3.6 MB/s eta 0:00:011\n",
      "\u001b[?25hCollecting marshmallow<4.0,>=3.0.0b11\n",
      "  Downloading marshmallow-3.14.1-py3-none-any.whl (47 kB)\n",
      "\u001b[K     |████████████████████████████████| 47 kB 6.9 MB/s  eta 0:00:01\n",
      "\u001b[?25hCollecting prefixcommons>=0.1.9\n",
      "  Downloading prefixcommons-0.1.9-py3-none-any.whl (5.8 kB)\n",
      "Requirement already satisfied: python-dateutil in /Users/jimmiinguyen/opt/anaconda3/lib/python3.9/site-packages (from ontobio) (2.8.2)\n",
      "Collecting SPARQLWrapper>=1.8.0\n",
      "  Downloading SPARQLWrapper-1.8.5-py3-none-any.whl (26 kB)\n",
      "Collecting dataclasses\n",
      "  Downloading dataclasses-0.6-py3-none-any.whl (14 kB)\n",
      "Requirement already satisfied: chardet in /Users/jimmiinguyen/opt/anaconda3/lib/python3.9/site-packages (from ontobio) (4.0.0)\n",
      "Collecting yamldown>=0.1.7\n",
      "  Downloading yamldown-0.1.8-py3-none-any.whl (4.1 kB)\n",
      "Requirement already satisfied: scipy>=1.2.0 in /Users/jimmiinguyen/opt/anaconda3/lib/python3.9/site-packages (from ontobio) (1.7.1)\n",
      "Requirement already satisfied: pip>=9.0.1 in /Users/jimmiinguyen/opt/anaconda3/lib/python3.9/site-packages (from ontobio) (21.2.4)\n",
      "Collecting twine\n",
      "  Downloading twine-3.8.0-py3-none-any.whl (36 kB)\n",
      "Requirement already satisfied: pandas>=0.0 in /Users/jimmiinguyen/opt/anaconda3/lib/python3.9/site-packages (from ontobio) (1.3.4)\n",
      "Requirement already satisfied: requests>=0.0 in /Users/jimmiinguyen/opt/anaconda3/lib/python3.9/site-packages (from ontobio) (2.26.0)\n",
      "Requirement already satisfied: networkx>=2.3 in /Users/jimmiinguyen/opt/anaconda3/lib/python3.9/site-packages (from ontobio) (2.6.3)\n",
      "Collecting pyparsing==2.4.7\n",
      "  Downloading pyparsing-2.4.7-py2.py3-none-any.whl (67 kB)\n",
      "\u001b[K     |████████████████████████████████| 67 kB 6.0 MB/s eta 0:00:011\n",
      "\u001b[?25hRequirement already satisfied: ply in /Users/jimmiinguyen/opt/anaconda3/lib/python3.9/site-packages (from jsonpath-rw>=0.0->ontobio) (3.11)\n",
      "Requirement already satisfied: decorator in /Users/jimmiinguyen/opt/anaconda3/lib/python3.9/site-packages (from jsonpath-rw>=0.0->ontobio) (5.1.0)\n",
      "Requirement already satisfied: six in /Users/jimmiinguyen/opt/anaconda3/lib/python3.9/site-packages (from jsonpath-rw>=0.0->ontobio) (1.16.0)\n",
      "Requirement already satisfied: kiwisolver>=1.0.1 in /Users/jimmiinguyen/opt/anaconda3/lib/python3.9/site-packages (from matplotlib>=2.0.0->ontobio) (1.3.1)\n",
      "Requirement already satisfied: numpy>=1.16 in /Users/jimmiinguyen/opt/anaconda3/lib/python3.9/site-packages (from matplotlib>=2.0.0->ontobio) (1.20.3)\n",
      "Requirement already satisfied: cycler>=0.10 in /Users/jimmiinguyen/opt/anaconda3/lib/python3.9/site-packages (from matplotlib>=2.0.0->ontobio) (0.10.0)\n",
      "Requirement already satisfied: pillow>=6.2.0 in /Users/jimmiinguyen/opt/anaconda3/lib/python3.9/site-packages (from matplotlib>=2.0.0->ontobio) (8.4.0)\n",
      "Requirement already satisfied: pytz>=2017.3 in /Users/jimmiinguyen/opt/anaconda3/lib/python3.9/site-packages (from pandas>=0.0->ontobio) (2021.3)\n",
      "Requirement already satisfied: retrying>=1.3.3 in /Users/jimmiinguyen/opt/anaconda3/lib/python3.9/site-packages (from plotly>=2.0.7->ontobio) (1.3.3)\n",
      "Collecting shexjsg>=0.8.1\n",
      "  Downloading ShExJSG-0.8.1-py2.py3-none-any.whl (14 kB)\n",
      "Collecting rdflib-shim\n",
      "  Downloading rdflib_shim-1.0.3-py3-none-any.whl (5.2 kB)\n",
      "Requirement already satisfied: urllib3 in /Users/jimmiinguyen/opt/anaconda3/lib/python3.9/site-packages (from PyShEx>=0.7.11->ontobio) (1.26.7)\n",
      "Collecting sparqlslurper>=0.5.1\n",
      "  Downloading sparqlslurper-0.5.1-py3-none-any.whl (6.6 kB)\n",
      "Collecting cfgraph>=0.2.1\n",
      "  Downloading CFGraph-0.2.1.tar.gz (2.6 kB)\n",
      "Collecting rdflib>=5.0.0\n",
      "  Downloading rdflib-6.1.1-py3-none-any.whl (482 kB)\n",
      "\u001b[K     |████████████████████████████████| 482 kB 5.7 MB/s eta 0:00:01\n",
      "\u001b[?25hCollecting pyshexc==0.9.0\n",
      "  Downloading PyShExC-0.9.0-py2.py3-none-any.whl (69 kB)\n",
      "\u001b[K     |████████████████████████████████| 69 kB 5.4 MB/s eta 0:00:01\n",
      "\u001b[?25hCollecting jsonasobj>=1.2.1\n",
      "  Downloading jsonasobj-1.3.1-py3-none-any.whl (4.4 kB)\n",
      "Collecting antlr4-python3-runtime~=4.9\n",
      "  Downloading antlr4-python3-runtime-4.9.3.tar.gz (117 kB)\n",
      "\u001b[K     |████████████████████████████████| 117 kB 5.7 MB/s eta 0:00:01\n",
      "\u001b[?25hCollecting pyjsg>=0.11.9\n",
      "  Downloading PyJSG-0.11.9-py3-none-any.whl (80 kB)\n",
      "\u001b[K     |████████████████████████████████| 80 kB 5.4 MB/s eta 0:00:01\n",
      "\u001b[?25hRequirement already satisfied: attrs>=19.2.0 in /Users/jimmiinguyen/opt/anaconda3/lib/python3.9/site-packages (from pytest>=0.0->ontobio) (21.2.0)\n",
      "Requirement already satisfied: iniconfig in /Users/jimmiinguyen/opt/anaconda3/lib/python3.9/site-packages (from pytest>=0.0->ontobio) (1.1.1)\n",
      "Requirement already satisfied: packaging in /Users/jimmiinguyen/opt/anaconda3/lib/python3.9/site-packages (from pytest>=0.0->ontobio) (21.0)\n",
      "Requirement already satisfied: pluggy<1.0.0a1,>=0.12 in /Users/jimmiinguyen/opt/anaconda3/lib/python3.9/site-packages (from pytest>=0.0->ontobio) (0.13.1)\n",
      "Requirement already satisfied: py>=1.8.2 in /Users/jimmiinguyen/opt/anaconda3/lib/python3.9/site-packages (from pytest>=0.0->ontobio) (1.10.0)\n",
      "Requirement already satisfied: toml in /Users/jimmiinguyen/opt/anaconda3/lib/python3.9/site-packages (from pytest>=0.0->ontobio) (0.10.2)\n",
      "Requirement already satisfied: setuptools in /Users/jimmiinguyen/opt/anaconda3/lib/python3.9/site-packages (from rdflib>=5.0.0->PyShEx>=0.7.11->ontobio) (58.0.4)\n",
      "Collecting isodate\n",
      "  Downloading isodate-0.6.1-py2.py3-none-any.whl (41 kB)\n",
      "\u001b[K     |████████████████████████████████| 41 kB 1.2 MB/s  eta 0:00:01\n",
      "\u001b[?25hRequirement already satisfied: certifi>=2017.4.17 in /Users/jimmiinguyen/opt/anaconda3/lib/python3.9/site-packages (from requests>=0.0->ontobio) (2021.10.8)\n",
      "Requirement already satisfied: idna<4,>=2.5 in /Users/jimmiinguyen/opt/anaconda3/lib/python3.9/site-packages (from requests>=0.0->ontobio) (3.2)\n",
      "Requirement already satisfied: charset-normalizer~=2.0.0 in /Users/jimmiinguyen/opt/anaconda3/lib/python3.9/site-packages (from requests>=0.0->ontobio) (2.0.4)\n",
      "Collecting rdflib-jsonld==0.6.1\n",
      "  Downloading rdflib_jsonld-0.6.1-py2.py3-none-any.whl (16 kB)\n",
      "Requirement already satisfied: colorama>=0.4.3 in /Users/jimmiinguyen/opt/anaconda3/lib/python3.9/site-packages (from twine->ontobio) (0.4.4)\n",
      "Requirement already satisfied: importlib-metadata>=3.6 in /Users/jimmiinguyen/opt/anaconda3/lib/python3.9/site-packages (from twine->ontobio) (4.8.1)\n",
      "Requirement already satisfied: keyring>=15.1 in /Users/jimmiinguyen/opt/anaconda3/lib/python3.9/site-packages (from twine->ontobio) (23.1.0)\n",
      "Collecting readme-renderer>=21.0\n",
      "  Downloading readme_renderer-33.0-py3-none-any.whl (16 kB)\n",
      "Collecting pkginfo>=1.8.1\n",
      "  Downloading pkginfo-1.8.2-py2.py3-none-any.whl (26 kB)\n",
      "Collecting requests-toolbelt!=0.9.0,>=0.8.0\n",
      "  Downloading requests_toolbelt-0.9.1-py2.py3-none-any.whl (54 kB)\n",
      "\u001b[K     |████████████████████████████████| 54 kB 4.1 MB/s eta 0:00:011\n",
      "\u001b[?25hCollecting rfc3986>=1.4.0\n",
      "  Downloading rfc3986-2.0.0-py2.py3-none-any.whl (31 kB)\n",
      "Requirement already satisfied: tqdm>=4.14 in /Users/jimmiinguyen/opt/anaconda3/lib/python3.9/site-packages (from twine->ontobio) (4.62.3)\n",
      "Requirement already satisfied: zipp>=0.5 in /Users/jimmiinguyen/opt/anaconda3/lib/python3.9/site-packages (from importlib-metadata>=3.6->twine->ontobio) (3.6.0)\n",
      "Requirement already satisfied: docutils>=0.13.1 in /Users/jimmiinguyen/opt/anaconda3/lib/python3.9/site-packages (from readme-renderer>=21.0->twine->ontobio) (0.17.1)\n",
      "Requirement already satisfied: bleach>=2.1.0 in /Users/jimmiinguyen/opt/anaconda3/lib/python3.9/site-packages (from readme-renderer>=21.0->twine->ontobio) (4.0.0)\n",
      "Requirement already satisfied: Pygments>=2.5.1 in /Users/jimmiinguyen/opt/anaconda3/lib/python3.9/site-packages (from readme-renderer>=21.0->twine->ontobio) (2.10.0)\n",
      "Requirement already satisfied: webencodings in /Users/jimmiinguyen/opt/anaconda3/lib/python3.9/site-packages (from bleach>=2.1.0->readme-renderer>=21.0->twine->ontobio) (0.5.1)\n",
      "Building wheels for collected packages: jsobject, jsonpath-rw, pydotplus, antlr4-python3-runtime, cfgraph, pysolr, pytest-logging\n",
      "  Building wheel for jsobject (setup.py) ... \u001b[?25ldone\n",
      "\u001b[?25h  Created wheel for jsobject: filename=jsobject-0.10.2-py3-none-any.whl size=5243 sha256=d592274fb3c91ad333591cba6ea439c8bfb11f586a714f7b9d3334301ad88222\n",
      "  Stored in directory: /Users/jimmiinguyen/Library/Caches/pip/wheels/d8/04/97/621eafbe81cf63d44534806c3ae8a739fe91a433d78d69c65b\n",
      "  Building wheel for jsonpath-rw (setup.py) ... \u001b[?25ldone\n",
      "\u001b[?25h  Created wheel for jsonpath-rw: filename=jsonpath_rw-1.4.0-py3-none-any.whl size=15145 sha256=db9a014ff7620028000c734c9f7b4455e42da0155996c8628d337570ca1c8140\n",
      "  Stored in directory: /Users/jimmiinguyen/Library/Caches/pip/wheels/04/56/46/9ae68fd2e2115ef977e84ce5b86440421eba7059b36eeea416\n",
      "  Building wheel for pydotplus (setup.py) ... \u001b[?25ldone\n",
      "\u001b[?25h  Created wheel for pydotplus: filename=pydotplus-2.0.2-py3-none-any.whl size=24575 sha256=0d805896fad2c0e345b44554fec70d893a97c10896a6f2542efdd2a2f10961d0\n",
      "  Stored in directory: /Users/jimmiinguyen/Library/Caches/pip/wheels/89/e5/de/6966007cf223872eedfbebbe0e074534e72e9128c8fd4b55eb\n",
      "  Building wheel for antlr4-python3-runtime (setup.py) ... \u001b[?25ldone\n",
      "\u001b[?25h  Created wheel for antlr4-python3-runtime: filename=antlr4_python3_runtime-4.9.3-py3-none-any.whl size=144575 sha256=1a9adb7adfa415d5e93f8fc19da17ad318a5b1857d0c722697f51ebeee529f80\n",
      "  Stored in directory: /Users/jimmiinguyen/Library/Caches/pip/wheels/23/cf/80/f3efa822e6ab23277902ee9165fe772eeb1dfb8014f359020a\n",
      "  Building wheel for cfgraph (setup.py) ... \u001b[?25ldone\n",
      "\u001b[?25h  Created wheel for cfgraph: filename=CFGraph-0.2.1-py3-none-any.whl size=2232 sha256=85bd15d0fa2cc21a4d26531486d0be969d13d7027fc199d03596d560f93aab3d\n",
      "  Stored in directory: /Users/jimmiinguyen/Library/Caches/pip/wheels/d2/7a/fc/b8664c57f9a37fcf3c891e202e140930d53d92b04b4cec8619\n",
      "  Building wheel for pysolr (setup.py) ... \u001b[?25ldone\n",
      "\u001b[?25h  Created wheel for pysolr: filename=pysolr-3.9.0-py2.py3-none-any.whl size=19689 sha256=7eae64aa0e5d298220fbe63ddaaf7b72c8b1304648b7227872ccedd88c3f2e50\n",
      "  Stored in directory: /Users/jimmiinguyen/Library/Caches/pip/wheels/8f/e3/bb/f4c2a751045824a821ab25757e9762a66da88028d8f5f136ce\n",
      "  Building wheel for pytest-logging (setup.py) ... \u001b[?25ldone\n",
      "\u001b[?25h  Created wheel for pytest-logging: filename=pytest_logging-2015.11.4-py3-none-any.whl size=4357 sha256=ea2a8a5df765cb31ea16310080bfd7806b075b5ae9a115e4b60fc481211493f7\n",
      "  Stored in directory: /Users/jimmiinguyen/Library/Caches/pip/wheels/bb/88/20/eddb2c2101b5bbd5e502e447de446d87c4080d9e790f2a68a8\n",
      "Successfully built jsobject jsonpath-rw pydotplus antlr4-python3-runtime cfgraph pysolr pytest-logging\n",
      "Installing collected packages: pyparsing, isodate, rdflib, jsonasobj, antlr4-python3-runtime, rdflib-jsonld, pyjsg, SPARQLWrapper, shexjsg, rdflib-shim, sparqlslurper, rfc3986, requests-toolbelt, readme-renderer, pyshexc, pkginfo, cfgraph, yamldown, twine, pytest-logging, pysolr, PyShEx, pydotplus, prefixcommons, marshmallow, jsonpickle, jsonpath-rw, jsobject, diskcache, dataclasses, dacite, bidict, ontobio\n",
      "  Attempting uninstall: pyparsing\n",
      "    Found existing installation: pyparsing 3.0.4\n",
      "    Uninstalling pyparsing-3.0.4:\n",
      "      Successfully uninstalled pyparsing-3.0.4\n",
      "  Attempting uninstall: pkginfo\n",
      "    Found existing installation: pkginfo 1.7.1\n",
      "    Uninstalling pkginfo-1.7.1:\n",
      "      Successfully uninstalled pkginfo-1.7.1\n",
      "Successfully installed PyShEx-0.8.0 SPARQLWrapper-1.8.5 antlr4-python3-runtime-4.9.3 bidict-0.21.4 cfgraph-0.2.1 dacite-1.6.0 dataclasses-0.6 diskcache-5.4.0 isodate-0.6.1 jsobject-0.10.2 jsonasobj-1.3.1 jsonpath-rw-1.4.0 jsonpickle-2.1.0 marshmallow-3.14.1 ontobio-2.7.16 pkginfo-1.8.2 prefixcommons-0.1.9 pydotplus-2.0.2 pyjsg-0.11.9 pyparsing-2.4.7 pyshexc-0.9.0 pysolr-3.9.0 pytest-logging-2015.11.4 rdflib-6.1.1 rdflib-jsonld-0.6.1 rdflib-shim-1.0.3 readme-renderer-33.0 requests-toolbelt-0.9.1 rfc3986-2.0.0 shexjsg-0.8.1 sparqlslurper-0.5.1 twine-3.8.0 yamldown-0.1.8\n",
      "Note: you may need to restart the kernel to use updated packages.\n"
     ]
    }
   ],
   "source": [
    "pip install ontobio"
   ]
  },
  {
   "cell_type": "code",
   "execution_count": 21,
   "id": "c44ba14f",
   "metadata": {
    "scrolled": true
   },
   "outputs": [
    {
     "name": "stdout",
     "output_type": "stream",
     "text": [
      "Requirement already satisfied: rpy2 in /Users/jimmiinguyen/opt/anaconda3/lib/python3.9/site-packages (3.1.0)\n",
      "Requirement already satisfied: jinja2 in /Users/jimmiinguyen/opt/anaconda3/lib/python3.9/site-packages (from rpy2) (2.11.3)\n",
      "Requirement already satisfied: pytest in /Users/jimmiinguyen/opt/anaconda3/lib/python3.9/site-packages (from rpy2) (6.2.4)\n",
      "Requirement already satisfied: pytz in /Users/jimmiinguyen/opt/anaconda3/lib/python3.9/site-packages (from rpy2) (2021.3)\n",
      "Requirement already satisfied: simplegeneric in /Users/jimmiinguyen/opt/anaconda3/lib/python3.9/site-packages (from rpy2) (0.8.1)\n",
      "Requirement already satisfied: tzlocal in /Users/jimmiinguyen/opt/anaconda3/lib/python3.9/site-packages (from rpy2) (4.1)\n",
      "Requirement already satisfied: cffi>=1.0.0 in /Users/jimmiinguyen/opt/anaconda3/lib/python3.9/site-packages (from rpy2) (1.14.6)\n",
      "Requirement already satisfied: pycparser in /Users/jimmiinguyen/opt/anaconda3/lib/python3.9/site-packages (from cffi>=1.0.0->rpy2) (2.20)\n",
      "Requirement already satisfied: MarkupSafe>=0.23 in /Users/jimmiinguyen/opt/anaconda3/lib/python3.9/site-packages (from jinja2->rpy2) (1.1.1)\n",
      "Requirement already satisfied: attrs>=19.2.0 in /Users/jimmiinguyen/opt/anaconda3/lib/python3.9/site-packages (from pytest->rpy2) (21.2.0)\n",
      "Requirement already satisfied: iniconfig in /Users/jimmiinguyen/opt/anaconda3/lib/python3.9/site-packages (from pytest->rpy2) (1.1.1)\n",
      "Requirement already satisfied: packaging in /Users/jimmiinguyen/opt/anaconda3/lib/python3.9/site-packages (from pytest->rpy2) (21.0)\n",
      "Requirement already satisfied: pluggy<1.0.0a1,>=0.12 in /Users/jimmiinguyen/opt/anaconda3/lib/python3.9/site-packages (from pytest->rpy2) (0.13.1)\n",
      "Requirement already satisfied: py>=1.8.2 in /Users/jimmiinguyen/opt/anaconda3/lib/python3.9/site-packages (from pytest->rpy2) (1.10.0)\n",
      "Requirement already satisfied: toml in /Users/jimmiinguyen/opt/anaconda3/lib/python3.9/site-packages (from pytest->rpy2) (0.10.2)\n",
      "Requirement already satisfied: pyparsing>=2.0.2 in /Users/jimmiinguyen/opt/anaconda3/lib/python3.9/site-packages (from packaging->pytest->rpy2) (2.4.7)\n",
      "Requirement already satisfied: pytz-deprecation-shim in /Users/jimmiinguyen/opt/anaconda3/lib/python3.9/site-packages (from tzlocal->rpy2) (0.1.0.post0)\n",
      "Requirement already satisfied: tzdata in /Users/jimmiinguyen/opt/anaconda3/lib/python3.9/site-packages (from pytz-deprecation-shim->tzlocal->rpy2) (2021.5)\n",
      "Note: you may need to restart the kernel to use updated packages.\n"
     ]
    }
   ],
   "source": [
    "pip install rpy2"
   ]
  },
  {
   "cell_type": "code",
   "execution_count": 20,
   "id": "9c99674b",
   "metadata": {
    "scrolled": true
   },
   "outputs": [
    {
     "name": "stdout",
     "output_type": "stream",
     "text": [
      "Collecting bioinfokit\n",
      "  Downloading bioinfokit-2.0.8.tar.gz (84 kB)\n",
      "\u001b[K     |████████████████████████████████| 84 kB 1.7 MB/s eta 0:00:01\n",
      "\u001b[?25hRequirement already satisfied: pandas in /Users/jimmiinguyen/opt/anaconda3/lib/python3.9/site-packages (from bioinfokit) (1.3.4)\n",
      "Requirement already satisfied: numpy in /Users/jimmiinguyen/opt/anaconda3/lib/python3.9/site-packages (from bioinfokit) (1.20.3)\n",
      "Requirement already satisfied: matplotlib in /Users/jimmiinguyen/opt/anaconda3/lib/python3.9/site-packages (from bioinfokit) (3.4.3)\n",
      "Requirement already satisfied: scipy in /Users/jimmiinguyen/opt/anaconda3/lib/python3.9/site-packages (from bioinfokit) (1.7.1)\n",
      "Requirement already satisfied: scikit-learn in /Users/jimmiinguyen/opt/anaconda3/lib/python3.9/site-packages (from bioinfokit) (0.24.2)\n",
      "Requirement already satisfied: seaborn in /Users/jimmiinguyen/opt/anaconda3/lib/python3.9/site-packages (from bioinfokit) (0.11.2)\n",
      "Collecting matplotlib-venn\n",
      "  Downloading matplotlib-venn-0.11.6.tar.gz (29 kB)\n",
      "Collecting tabulate\n",
      "  Downloading tabulate-0.8.9-py3-none-any.whl (25 kB)\n",
      "Requirement already satisfied: statsmodels in /Users/jimmiinguyen/opt/anaconda3/lib/python3.9/site-packages (from bioinfokit) (0.12.2)\n",
      "Collecting textwrap3\n",
      "  Downloading textwrap3-0.9.2-py2.py3-none-any.whl (12 kB)\n",
      "Collecting adjustText\n",
      "  Downloading adjustText-0.7.3.tar.gz (7.5 kB)\n",
      "Requirement already satisfied: pyparsing>=2.2.1 in /Users/jimmiinguyen/opt/anaconda3/lib/python3.9/site-packages (from matplotlib->bioinfokit) (2.4.7)\n",
      "Requirement already satisfied: python-dateutil>=2.7 in /Users/jimmiinguyen/opt/anaconda3/lib/python3.9/site-packages (from matplotlib->bioinfokit) (2.8.2)\n",
      "Requirement already satisfied: pillow>=6.2.0 in /Users/jimmiinguyen/opt/anaconda3/lib/python3.9/site-packages (from matplotlib->bioinfokit) (8.4.0)\n",
      "Requirement already satisfied: cycler>=0.10 in /Users/jimmiinguyen/opt/anaconda3/lib/python3.9/site-packages (from matplotlib->bioinfokit) (0.10.0)\n",
      "Requirement already satisfied: kiwisolver>=1.0.1 in /Users/jimmiinguyen/opt/anaconda3/lib/python3.9/site-packages (from matplotlib->bioinfokit) (1.3.1)\n",
      "Requirement already satisfied: six in /Users/jimmiinguyen/opt/anaconda3/lib/python3.9/site-packages (from cycler>=0.10->matplotlib->bioinfokit) (1.16.0)\n",
      "Requirement already satisfied: pytz>=2017.3 in /Users/jimmiinguyen/opt/anaconda3/lib/python3.9/site-packages (from pandas->bioinfokit) (2021.3)\n",
      "Requirement already satisfied: joblib>=0.11 in /Users/jimmiinguyen/opt/anaconda3/lib/python3.9/site-packages (from scikit-learn->bioinfokit) (1.1.0)\n",
      "Requirement already satisfied: threadpoolctl>=2.0.0 in /Users/jimmiinguyen/opt/anaconda3/lib/python3.9/site-packages (from scikit-learn->bioinfokit) (2.2.0)\n",
      "Requirement already satisfied: patsy>=0.5 in /Users/jimmiinguyen/opt/anaconda3/lib/python3.9/site-packages (from statsmodels->bioinfokit) (0.5.2)\n",
      "Building wheels for collected packages: bioinfokit, adjustText, matplotlib-venn\n",
      "  Building wheel for bioinfokit (setup.py) ... \u001b[?25ldone\n",
      "\u001b[?25h  Created wheel for bioinfokit: filename=bioinfokit-2.0.8-py3-none-any.whl size=56749 sha256=d5f0781bd781a304c60082ac7bbeb200502bd30ab114f4e8e3dda8e9d6a7cd67\n",
      "  Stored in directory: /Users/jimmiinguyen/Library/Caches/pip/wheels/fa/50/db/bf79767c7cbac03b20b9444bcce9bc3c1507c6d143cad39656\n",
      "  Building wheel for adjustText (setup.py) ... \u001b[?25ldone\n",
      "\u001b[?25h  Created wheel for adjustText: filename=adjustText-0.7.3-py3-none-any.whl size=7094 sha256=fdbb89479d8b65d9893cf7b679d5e5dccad05bb824261c825c21e766a1583284\n",
      "  Stored in directory: /Users/jimmiinguyen/Library/Caches/pip/wheels/6b/1d/79/4326d5f3a7d86fb9900e5564e7a0f98b552da5103ca762f24f\n",
      "  Building wheel for matplotlib-venn (setup.py) ... \u001b[?25ldone\n",
      "\u001b[?25h  Created wheel for matplotlib-venn: filename=matplotlib_venn-0.11.6-py3-none-any.whl size=32065 sha256=eb136109917b422761d685c1b34aef2eeb054119ba80097b1f5b6a7b4a268d6b\n",
      "  Stored in directory: /Users/jimmiinguyen/Library/Caches/pip/wheels/42/1c/65/1a733895cd94885d1a97eee84ec7595ff7fddc277a45bcacf5\n",
      "Successfully built bioinfokit adjustText matplotlib-venn\n",
      "Installing collected packages: textwrap3, tabulate, matplotlib-venn, adjustText, bioinfokit\n",
      "Successfully installed adjustText-0.7.3 bioinfokit-2.0.8 matplotlib-venn-0.11.6 tabulate-0.8.9 textwrap3-0.9.2\n",
      "Note: you may need to restart the kernel to use updated packages.\n"
     ]
    }
   ],
   "source": [
    "pip install bioinfokit"
   ]
  },
  {
   "cell_type": "code",
   "execution_count": 3,
   "id": "ae7b872c",
   "metadata": {},
   "outputs": [
    {
     "name": "stderr",
     "output_type": "stream",
     "text": [
      "/Users/jimmiinguyen/opt/anaconda3/lib/python3.9/site-packages/rdflib_jsonld/__init__.py:9: DeprecationWarning: The rdflib-jsonld package has been integrated into rdflib as of rdflib==6.0.0.  Please remove rdflib-jsonld from your project's dependencies.\n",
      "  warnings.warn(\n"
     ]
    }
   ],
   "source": [
    "from Bio import SeqIO\n",
    "from Bio.Seq import Seq\n",
    "from Bio.Blast import NCBIWWW\n",
    "from Bio.Blast import NCBIXML\n",
    "from Bio import Entrez\n",
    "from ontobio.ontol_factory import OntologyFactory\n",
    "from ontobio.assoc_factory import AssociationSetFactory\n",
    "import pandas as pd\n",
    "import collections\n",
    "import numpy as np\n",
    "from scipy import stats\n",
    "import matplotlib.pyplot as plt"
   ]
  },
  {
   "cell_type": "markdown",
   "id": "21938243",
   "metadata": {},
   "source": [
    "### Part 2A: Load in fasta file and perform BLAST\n",
    "\n",
    "BLAST search works by taking our genome sequence of interest and comparing it against a wide database such as NCBI to find genes sharing similarities to our genome sequence of interest. \n",
    "\n",
    "The code provided was referenced from Challenge Problem 3 in my BIMM 143 class.\n",
    "\n",
    "In this lab notebook, our genome sequence was imported in the format of a fasta file and will be converted into a seq file for further analysis. We will be calling upon the function provded in the Bio package to perform the necessary analyses such as BLAST and Seq."
   ]
  },
  {
   "cell_type": "code",
   "execution_count": 2,
   "id": "14d6f29a",
   "metadata": {
    "scrolled": true
   },
   "outputs": [
    {
     "name": "stdout",
     "output_type": "stream",
     "text": [
      "ID: lcl|XM_036851274.1_cds_XP_036707169.1_1\n",
      "Name: lcl|XM_036851274.1_cds_XP_036707169.1_1\n",
      "Description: lcl|XM_036851274.1_cds_XP_036707169.1_1 [gene=TPRG1] [db_xref=GeneID:118894757] [protein=tumor protein p63-regulated gene 1 protein] [protein_id=XP_036707169.1] [location=1..840] [gbkey=CDS]\n",
      "Number of features: 0\n",
      "Seq('ATGTCAACCATTGGGAGTTTTGAAGGATTCCAGCCTGTGTCTCTGAAGCAAGAG...TGA')\n",
      "ATGTCAACCATTGGGAGTTTTGAAGGATTCCAGCCTGTGTCTCTGAAGCAAGAGGGAGATGACCAAACCTCTGAGACTGATCAGCTGTCCACGGAGGAGGGTGGCCCAGGCACTGTCTCAGGGCCAAGGCAGACTTCAAGGTCTCCAAGCGTGACTGAATCAGCACTCTACCCCAGTCCCTATCACCAGCCTTATATCTCACGGAAGTACTTCATTACATGGCCAGGGCCCATTGAGACCGCCACAGAAGACTTGAAAGGCCACATTGCCAAGACTTCTGGAGAGAAAATTCAAGGCTTCTGGCTCTTGACAGAGATAGACCGCTGGAACAATGAGAAGGAGAGGATTTTGCTGGTCACAGACAGGACTCTCTTGATCTGCAAATATGACTTCATCATGCTCAGCTGTGTGCAGTTGCAATGGATTCCCCTGAGTGCTGTCTATTGCATCTGCCTGGGCAAGTTTTCCTTCCCTACAATGTCACTGGACAAGAGACAAGGAGAAGGCCTTAGGATCTGCTGGGGAAGTCCAGAGCAGCAGTCACTATTATCCTGTTGGAACCCGTGGTCCACTGAGGTGCCTTATACTACCTTCACTGAACACCTTATGAAATACACCAGTGAGAAGTTTCTCGAAATCTGCAAGTCGTCCGGGTTTATGTCTAAGCTTGTTCCAGCTATCCAGAATGCCCACAGGAATTCCACTGGATCTGGAAGAGGAAAGGGATTGATGGTGTTAACTGAACCCGTTTTGATTGAGACCTACACGGGTCTGATGTCATTCACTGGAAACTGCAACAAACTTGGCTATTCCCTTGCCCGGGGGAGTGTTGGTTTTTGA\n"
     ]
    }
   ],
   "source": [
    "# Read in the fasta file obtained from NCBI database\n",
    "# Define as varibale p63_gene\n",
    "p63_gene = SeqIO.read(\"p63_whale.fa\", \"fasta\")\n",
    "\n",
    "# Print check\n",
    "print(p63_gene)\n",
    "\n",
    "# Turn gene fasta file into a .seq data type to access the entire genome\n",
    "# Define as variable p63_gene_gene\n",
    "p63_gene_gene = p63_gene.seq\n",
    "\n",
    "# Print check\n",
    "print(p63_gene_gene)"
   ]
  },
  {
   "cell_type": "code",
   "execution_count": 3,
   "id": "972c877f",
   "metadata": {
    "scrolled": true
   },
   "outputs": [
    {
     "name": "stdout",
     "output_type": "stream",
     "text": [
      "<_io.StringIO object at 0x7fe3ac768ca0>\n"
     ]
    }
   ],
   "source": [
    "# Perform a BLAST search on p63_gene_gene using NCBIWWW.qblast\n",
    "# Define as variable result_handle\n",
    "result_handle = NCBIWWW.qblast(\"blastn\", \"nt\", p63_gene_gene)\n",
    "\n",
    "# Print check\n",
    "print(result_handle)"
   ]
  },
  {
   "cell_type": "code",
   "execution_count": 4,
   "id": "96dca2ac",
   "metadata": {},
   "outputs": [],
   "source": [
    "# Access the BLAST results by converting result_handle into a .xml file\n",
    "# Define as variable p63_BLASTresults.xml\n",
    "with open(\"p63_BLASTresults.xml\", \"x\") as save_file:\n",
    "    blast_results = result_handle.read()\n",
    "    save_file.write(blast_results)"
   ]
  },
  {
   "cell_type": "code",
   "execution_count": 5,
   "id": "ea2ef66c",
   "metadata": {},
   "outputs": [],
   "source": [
    "# Access the .xml file by defining open command as variable handle\n",
    "# Perform NCBIXML.read to expand the list of BLAST hits/results\n",
    "handle = open(\"p63_BLASTresults.xml\")\n",
    "blast_record = NCBIXML.read(handle)"
   ]
  },
  {
   "cell_type": "code",
   "execution_count": 6,
   "id": "11367aa2",
   "metadata": {},
   "outputs": [
    {
     "name": "stdout",
     "output_type": "stream",
     "text": [
      "gi|1920266935|ref|XM_036851274.1| PREDICTED: Balaenoptera musculus tumor protein p63 regulated 1 (TPRG1), mRNA\n",
      "0.0\n",
      "gi|594696179|ref|XM_007195223.1| PREDICTED: Balaenoptera acutorostrata scammoni tumor protein p63 regulated 1 (TPRG1), mRNA\n",
      "0.0\n",
      "gi|602692032|ref|XM_007458072.1| PREDICTED: Lipotes vexillifer tumor protein p63-regulated gene 1 protein-like (LOC103078096), mRNA\n",
      "0.0\n",
      "gi|466051837|ref|XM_004278486.1| PREDICTED: Orcinus orca tumor protein p63 regulated 1 (TPRG1), mRNA\n",
      "0.0\n",
      "gi|1814749989|ref|XM_032629399.1| PREDICTED: Phocoena sinus tumor protein p63 regulated 1 (TPRG1), mRNA\n",
      "0.0\n",
      "gi|1516074786|ref|XM_027109024.1| PREDICTED: Lagenorhynchus obliquidens tumor protein p63 regulated 1 (TPRG1), mRNA\n",
      "0.0\n",
      "gi|1378815610|ref|XM_024767528.1| PREDICTED: Neophocaena asiaeorientalis asiaeorientalis tumor protein p63 regulated 1 (TPRG1), mRNA\n",
      "0.0\n",
      "gi|1746157175|ref|XM_030856670.1| PREDICTED: Globicephala melas tumor protein p63 regulated 1 (TPRG1), mRNA\n",
      "0.0\n",
      "gi|1835228976|ref|XM_033855207.1| PREDICTED: Tursiops truncatus tumor protein p63 regulated 1 (TPRG1), mRNA\n",
      "0.0\n",
      "gi|1655660961|ref|XM_029213728.1| PREDICTED: Monodon monoceros tumor protein p63 regulated 1 (TPRG1), mRNA\n",
      "0.0\n",
      "gi|1246145959|ref|XM_022569690.1| PREDICTED: Delphinapterus leucas tumor protein p63 regulated 1 (TPRG1), mRNA\n",
      "0.0\n",
      "gi|1810971674|ref|XM_006188859.2| PREDICTED: Camelus ferus tumor protein p63 regulated 1 (TPRG1), mRNA\n",
      "0.0\n",
      "gi|2165527199|ref|XM_045519779.1| PREDICTED: Camelus bactrianus tumor protein p63 regulated 1 (TPRG1), transcript variant X2, mRNA\n",
      "0.0\n",
      "gi|2165527198|ref|XM_010959239.2| PREDICTED: Camelus bactrianus tumor protein p63 regulated 1 (TPRG1), transcript variant X1, mRNA\n",
      "0.0\n",
      "gi|1768682095|ref|XM_010990097.2| PREDICTED: Camelus dromedarius tumor protein p63 regulated 1 (TPRG1), mRNA\n",
      "0.0\n",
      "gi|1777459737|ref|XM_006200969.2| PREDICTED: Vicugna pacos tumor protein p63 regulated 1 (TPRG1), mRNA\n",
      "0.0\n",
      "gi|955505637|ref|XM_004424581.2| PREDICTED: Ceratotherium simum simum tumor protein p63 regulated 1 (LOC101399113), mRNA\n",
      "0.0\n",
      "gi|2131019675|ref|XM_045037155.1| PREDICTED: Felis catus tumor protein p63 regulated 1 (TPRG1), transcript variant X8, mRNA\n",
      "0.0\n",
      "gi|2131019673|ref|XM_045037154.1| PREDICTED: Felis catus tumor protein p63 regulated 1 (TPRG1), transcript variant X7, mRNA\n",
      "0.0\n",
      "gi|2131019671|ref|XM_045037152.1| PREDICTED: Felis catus tumor protein p63 regulated 1 (TPRG1), transcript variant X6, mRNA\n",
      "0.0\n",
      "gi|2131019669|ref|XM_045037151.1| PREDICTED: Felis catus tumor protein p63 regulated 1 (TPRG1), transcript variant X5, mRNA\n",
      "0.0\n",
      "gi|2131019667|ref|XM_019839996.2| PREDICTED: Felis catus tumor protein p63 regulated 1 (TPRG1), transcript variant X4, mRNA\n",
      "0.0\n",
      "gi|2131019665|ref|XM_003991801.5| PREDICTED: Felis catus tumor protein p63 regulated 1 (TPRG1), transcript variant X3, mRNA\n",
      "0.0\n",
      "gi|2131019663|ref|XM_019839995.3| PREDICTED: Felis catus tumor protein p63 regulated 1 (TPRG1), transcript variant X2, mRNA\n",
      "0.0\n",
      "gi|2131019661|ref|XM_045037150.1| PREDICTED: Felis catus tumor protein p63 regulated 1 (TPRG1), transcript variant X1, mRNA\n",
      "0.0\n",
      "gi|1812861149|ref|XM_030330508.2| PREDICTED: Lynx canadensis tumor protein p63 regulated 1 (TPRG1), mRNA\n",
      "0.0\n",
      "gi|1511984534|ref|XM_027061201.1| PREDICTED: Acinonyx jubatus tumor protein p63 regulated 1 (TPRG1), transcript variant X5, mRNA\n",
      "0.0\n",
      "gi|1511984532|ref|XM_027061200.1| PREDICTED: Acinonyx jubatus tumor protein p63 regulated 1 (TPRG1), transcript variant X4, mRNA\n",
      "0.0\n",
      "gi|1511984530|ref|XM_027061199.1| PREDICTED: Acinonyx jubatus tumor protein p63 regulated 1 (TPRG1), transcript variant X3, mRNA\n",
      "0.0\n",
      "gi|1511984529|ref|XM_015064391.2| PREDICTED: Acinonyx jubatus tumor protein p63 regulated 1 (TPRG1), transcript variant X2, mRNA\n",
      "0.0\n",
      "gi|1511984527|ref|XM_027061198.1| PREDICTED: Acinonyx jubatus tumor protein p63 regulated 1 (TPRG1), transcript variant X1, mRNA\n",
      "0.0\n",
      "gi|2092056172|ref|XM_043594609.1| PREDICTED: Prionailurus bengalensis tumor protein p63 regulated 1 (TPRG1), transcript variant X2, mRNA\n",
      "0.0\n",
      "gi|2092056170|ref|XM_043594608.1| PREDICTED: Prionailurus bengalensis tumor protein p63 regulated 1 (TPRG1), transcript variant X1, mRNA\n",
      "0.0\n",
      "gi|1212195721|ref|XM_021692715.1| PREDICTED: Neomonachus schauinslandi tumor protein p63 regulated 1 (TPRG1), transcript variant X4, mRNA\n",
      "0.0\n",
      "gi|1212195719|ref|XM_021692714.1| PREDICTED: Neomonachus schauinslandi tumor protein p63 regulated 1 (TPRG1), transcript variant X3, mRNA\n",
      "0.0\n",
      "gi|1212195717|ref|XM_021692713.1| PREDICTED: Neomonachus schauinslandi tumor protein p63 regulated 1 (TPRG1), transcript variant X2, mRNA\n",
      "0.0\n",
      "gi|1212195715|ref|XM_021692712.1| PREDICTED: Neomonachus schauinslandi tumor protein p63 regulated 1 (TPRG1), transcript variant X1, mRNA\n",
      "0.0\n",
      "gi|2193371631|ref|XM_046659889.1| PREDICTED: Equus burchellii quagga tumor protein p63 regulated 1 (TPRG1), transcript variant X4, mRNA\n",
      "0.0\n",
      "gi|2193371629|ref|XM_046659888.1| PREDICTED: Equus burchellii quagga tumor protein p63 regulated 1 (TPRG1), transcript variant X3, mRNA\n",
      "0.0\n",
      "gi|2193371627|ref|XM_046659887.1| PREDICTED: Equus burchellii quagga tumor protein p63 regulated 1 (TPRG1), transcript variant X2, mRNA\n",
      "0.0\n",
      "gi|2193371625|ref|XM_046659886.1| PREDICTED: Equus burchellii quagga tumor protein p63 regulated 1 (TPRG1), transcript variant X1, mRNA\n",
      "0.0\n",
      "gi|591314404|ref|XM_007083561.1| PREDICTED: Panthera tigris altaica tumor protein p63 regulated 1 (TPRG1), transcript variant X3, mRNA\n",
      "0.0\n",
      "gi|591314402|ref|XM_007083560.1| PREDICTED: Panthera tigris altaica tumor protein p63 regulated 1 (TPRG1), transcript variant X2, mRNA\n",
      "0.0\n",
      "gi|2080399337|ref|XM_042956492.1| PREDICTED: Panthera tigris tumor protein p63 regulated 1 (TPRG1), transcript variant X5, mRNA\n",
      "0.0\n",
      "gi|2080399332|ref|XM_007083559.2| PREDICTED: Panthera tigris tumor protein p63 regulated 1 (TPRG1), transcript variant X3, mRNA\n",
      "0.0\n",
      "gi|2080399326|ref|XM_042956490.1| PREDICTED: Panthera tigris tumor protein p63 regulated 1 (TPRG1), transcript variant X1, mRNA\n",
      "0.0\n",
      "gi|2124518117|ref|XM_044771290.1| PREDICTED: Equus asinus tumor protein p63 regulated 1 (TPRG1), transcript variant X6, mRNA\n",
      "0.0\n",
      "gi|2124518113|ref|XM_044771288.1| PREDICTED: Equus asinus tumor protein p63 regulated 1 (TPRG1), transcript variant X4, mRNA\n",
      "0.0\n",
      "gi|2124518111|ref|XM_044771287.1| PREDICTED: Equus asinus tumor protein p63 regulated 1 (TPRG1), transcript variant X3, mRNA\n",
      "0.0\n",
      "gi|2124518109|ref|XM_044771286.1| PREDICTED: Equus asinus tumor protein p63 regulated 1 (TPRG1), transcript variant X2, mRNA\n",
      "0.0\n"
     ]
    }
   ],
   "source": [
    "# Specify the table by extracting the columns contatining BLAST hit titles and hit E scores\n",
    "# Print check\n",
    "for hit in blast_record.descriptions: \n",
    "    print(hit.title)\n",
    "    print(hit.e)"
   ]
  },
  {
   "cell_type": "code",
   "execution_count": 9,
   "id": "7eba0012",
   "metadata": {
    "scrolled": true
   },
   "outputs": [
    {
     "name": "stdout",
     "output_type": "stream",
     "text": [
      "ID: XM_036851274.1\n",
      "Name: XM_036851274\n",
      "Description: PREDICTED: Balaenoptera musculus tumor protein p63 regulated 1 (TPRG1), mRNA\n",
      "Database cross-references: BioProject:PRJNA607322\n",
      "Number of features: 3\n",
      "/molecule_type=mRNA\n",
      "/topology=linear\n",
      "/data_file_division=MAM\n",
      "/date=28-OCT-2020\n",
      "/accessions=['XM_036851274']\n",
      "/sequence_version=1\n",
      "/keywords=['RefSeq']\n",
      "/source=Balaenoptera musculus (Blue whale)\n",
      "/organism=Balaenoptera musculus\n",
      "/taxonomy=['Eukaryota', 'Metazoa', 'Chordata', 'Craniata', 'Vertebrata', 'Euteleostomi', 'Mammalia', 'Eutheria', 'Laurasiatheria', 'Artiodactyla', 'Whippomorpha', 'Cetacea', 'Mysticeti', 'Balaenopteridae', 'Balaenoptera']\n",
      "/comment=MODEL REFSEQ:  This record is predicted by automated computational\n",
      "analysis. This record is derived from a genomic sequence\n",
      "(NC_045788.1) annotated using gene prediction method: Gnomon.\n",
      "Also see:\n",
      "    Documentation of NCBI's Annotation Process\n",
      "/structured_comment=OrderedDict([('Genome-Annotation-Data', OrderedDict([('Annotation Provider', 'NCBI'), ('Annotation Status', 'Full annotation'), ('Annotation Name', 'Balaenoptera musculus Annotation Release 100'), ('Annotation Version', '100'), ('Annotation Pipeline', 'NCBI eukaryotic genome annotation pipeline'), ('Annotation Software Version', '8.5'), ('Annotation Method', 'Best-placed RefSeq; Gnomon'), ('Features Annotated', 'Gene; mRNA; CDS; ncRNA')]))])\n",
      "Seq('ATGTCAACCATTGGGAGTTTTGAAGGATTCCAGCCTGTGTCTCTGAAGCAAGAG...TGA')\n",
      "ATGTCAACCATTGGGAGTTTTGAAGGATTCCAGCCTGTGTCTCTGAAGCAAGAGGGAGATGACCAAACCTCTGAGACTGATCAGCTGTCCACGGAGGAGGGTGGCCCAGGCACTGTCTCAGGGCCAAGGCAGACTTCAAGGTCTCCAAGCGTGACTGAATCAGCACTCTACCCCAGTCCCTATCACCAGCCTTATATCTCACGGAAGTACTTCATTACATGGCCAGGGCCCATTGAGACCGCCACAGAAGACTTGAAAGGCCACATTGCCAAGACTTCTGGAGAGAAAATTCAAGGCTTCTGGCTCTTGACAGAGATAGACCGCTGGAACAATGAGAAGGAGAGGATTTTGCTGGTCACAGACAGGACTCTCTTGATCTGCAAATATGACTTCATCATGCTCAGCTGTGTGCAGTTGCAATGGATTCCCCTGAGTGCTGTCTATTGCATCTGCCTGGGCAAGTTTTCCTTCCCTACAATGTCACTGGACAAGAGACAAGGAGAAGGCCTTAGGATCTGCTGGGGAAGTCCAGAGCAGCAGTCACTATTATCCTGTTGGAACCCGTGGTCCACTGAGGTGCCTTATACTACCTTCACTGAACACCTTATGAAATACACCAGTGAGAAGTTTCTCGAAATCTGCAAGTCGTCCGGGTTTATGTCTAAGCTTGTTCCAGCTATCCAGAATGCCCACAGGAATTCCACTGGATCTGGAAGAGGAAAGGGATTGATGGTGTTAACTGAACCCGTTTTGATTGAGACCTACACGGGTCTGATGTCATTCACTGGAAACTGCAACAAACTTGGCTATTCCCTTGCCCGGGGGAGTGTTGGTTTTTGA\n"
     ]
    }
   ],
   "source": [
    "# Entrez allows for fetching a specific hit from the table and saving it to an email\n",
    "Entrez.email = \"jin001@ucsd.edu\"\n",
    "\n",
    "# Fetch the hit using the efetch method and read in the new genome file\n",
    "handle = Entrez.efetch(db=\"nucleotide\", id=\"1920266935\", rettype=\"gb\", retmod=\"text\")\n",
    "record = SeqIO.read(handle, \"genbank\")\n",
    "\n",
    "# Print check\n",
    "print(record)\n",
    "\n",
    "# Turn the file into a .seq to access the entire genome\n",
    "BLAST_Hit = record.seq\n",
    "print(BLAST_Hit)"
   ]
  },
  {
   "cell_type": "markdown",
   "id": "3aaeb8a4",
   "metadata": {},
   "source": [
    "### Part 2B: Create a table with Functional annotation with GO (plotting method)\n",
    "\n",
    "GO (Gene Ontology) shows the functions of each gene within a genome sequence. By creating a table, we can not only see the function of each gene but can use so to infer whether certain genes pertain to the cultivation of cancer.\n",
    "\n",
    "The code provided in this notebook to perform such plotting method was found at https://github.com/geneontology/go-notebooks/blob/master/Annotations_for_a_Gene.ipynb\n",
    "\n",
    "For this plotting method to work, we will be importing the functions from the Ontobio package and analyze our BLAST hit found from Part 2A."
   ]
  },
  {
   "cell_type": "code",
   "execution_count": 9,
   "id": "2caa6f30",
   "metadata": {},
   "outputs": [],
   "source": [
    "# Create an ontology factory\n",
    "# Create ontology object using handle 'go'\n",
    "ofa = OntologyFactory()\n",
    "ont = ofa.create('go')"
   ]
  },
  {
   "cell_type": "code",
   "execution_count": 10,
   "id": "75fceccb",
   "metadata": {},
   "outputs": [],
   "source": [
    "# Create an association factory to access PomBase GO annotations\n",
    "afactory = AssociationSetFactory()\n",
    "aset = afactory.create(ontology=ont, subject_category='gene', object_category='function', taxon='NCBITaxon:9771')"
   ]
  },
  {
   "cell_type": "code",
   "execution_count": 54,
   "id": "daa0af24",
   "metadata": {},
   "outputs": [],
   "source": [
    "# Assign genome sequence from BLAST_Hit to p63\n",
    "p63 = 'BLAST_Hit'\n",
    "\n",
    "# Write id-labels for direct annotations to p63\n",
    "direct_anns = aset.annotations(p63)\n",
    "for t in direct_anns:\n",
    "    print(\" Annotation: {id} '{label}'\".format(id=t, label=ont.label(t)))"
   ]
  },
  {
   "cell_type": "markdown",
   "id": "746f6d06",
   "metadata": {},
   "source": [
    "### Part 3A: Load in txt and perform differential expression analysis\n",
    "\n",
    "Differential expression analysis (RNAseq) normalizes the read count data imported as a txt file and performs statistical analysis to view the quantitative differences between control cells and DeltaNp63 knockout cells.\n",
    "\n",
    "The protein expression data provided by the NCBI GEO database also seems to already been normalized.\n",
    "\n",
    "The code provided was referenced from Challenge Problem 4 in my BIMM 143 class.\n",
    "\n",
    "In this notebook, the packages Pandas and Collections will be used to process the imported data as a dataframe while Numpy and Scipy will be used to perform the normalization and statistical analysis in preparations for our plotting method."
   ]
  },
  {
   "cell_type": "code",
   "execution_count": 7,
   "id": "c6ddddfd",
   "metadata": {
    "scrolled": false
   },
   "outputs": [
    {
     "name": "stdout",
     "output_type": "stream",
     "text": [
      "           EnsembleID  \\\n",
      "0  ENSMUSG00000028180   \n",
      "1  ENSMUSG00000028184   \n",
      "2  ENSMUSG00000028187   \n",
      "3  ENSMUSG00000028189   \n",
      "4  ENSMUSG00000028188   \n",
      "\n",
      "  GeneSymbol/Users/jimmiinguyen/Downloads/GSE131671_LungBasal.coding.qn.txt  \\\n",
      "0                                             Zranb2                          \n",
      "1                                              Lphn2                          \n",
      "2                                               Rpf1                          \n",
      "3                                               Ctbs                          \n",
      "4                                             Spata1                          \n",
      "\n",
      "   SJW-RNA_CRE-2  SJW-RNA_CRE-3  SJW-RNA_WT-1  SJW-RNA_WT-2  SJW-RNA_WT-3  \n",
      "0      47.558883      39.157967     54.080000     52.865800     45.259067  \n",
      "1       9.477885       9.683098     15.004183     11.317450     11.699550  \n",
      "2      11.118883      12.782617      9.964692     11.593400     13.001617  \n",
      "3       5.547977       4.455377      9.273210      5.704712      4.139222  \n",
      "4       1.015054       0.698137      1.136600      0.996578      1.142347  \n"
     ]
    }
   ],
   "source": [
    "# Read in the CSV file\n",
    "counts_raw = pd.read_csv(\"GSE131671_LungBasal.txt\", delimiter = \"\\t\")\n",
    "# Print check\n",
    "print(counts_raw.head())"
   ]
  },
  {
   "cell_type": "code",
   "execution_count": 8,
   "id": "f5c52848",
   "metadata": {
    "scrolled": false
   },
   "outputs": [
    {
     "name": "stdout",
     "output_type": "stream",
     "text": [
      "           EnsembleID  \\\n",
      "0  ENSMUSG00000028180   \n",
      "1  ENSMUSG00000028184   \n",
      "2  ENSMUSG00000028187   \n",
      "3  ENSMUSG00000028189   \n",
      "4  ENSMUSG00000028188   \n",
      "\n",
      "  GeneSymbol/Users/jimmiinguyen/Downloads/GSE131671_LungBasal.coding.qn.txt  \\\n",
      "0                                             Zranb2                          \n",
      "1                                              Lphn2                          \n",
      "2                                               Rpf1                          \n",
      "3                                               Ctbs                          \n",
      "4                                             Spata1                          \n",
      "\n",
      "   SJW-RNA_CRE-2  SJW-RNA_CRE-3  SJW-RNA_WT-1  SJW-RNA_WT-2  SJW-RNA_WT-3  \n",
      "0      47.558883      39.157967     54.080000     52.865800     45.259067  \n",
      "1       9.477885       9.683098     15.004183     11.317450     11.699550  \n",
      "2      11.118883      12.782617      9.964692     11.593400     13.001617  \n",
      "3       5.547977       4.455377      9.273210      5.704712      4.139222  \n",
      "4       1.015054       0.698137      1.136600      0.996578      1.142347  \n"
     ]
    }
   ],
   "source": [
    "# Process the raw counts data\n",
    "# Remove genes without counts across all conditions\n",
    "genes_without_counts = (counts_raw != 0).any(axis=1)\n",
    "# Create dataframe of the processed counts\n",
    "counts_processed = counts_raw.loc[genes_without_counts]\n",
    "# Print check\n",
    "print(counts_processed.head())"
   ]
  },
  {
   "cell_type": "code",
   "execution_count": 9,
   "id": "95d5cb64",
   "metadata": {},
   "outputs": [],
   "source": [
    "# Label columns under control and DNp63 knockout\n",
    "# WT is control, CRE is knockout\n",
    "DNp63_control = ['SJW-RNA_WT-1','SJW-RNA_WT-2','SJW-RNA_WT-3']\n",
    "DNp63_KD = ['SJW-RNA_CRE-2','SJW-RNA_CRE-3']"
   ]
  },
  {
   "cell_type": "code",
   "execution_count": 12,
   "id": "223f5a17",
   "metadata": {},
   "outputs": [
    {
     "name": "stdout",
     "output_type": "stream",
     "text": [
      "               EnsembleID  \\\n",
      "0      ENSMUSG00000028180   \n",
      "1      ENSMUSG00000028184   \n",
      "2      ENSMUSG00000028187   \n",
      "3      ENSMUSG00000028189   \n",
      "4      ENSMUSG00000028188   \n",
      "...                   ...   \n",
      "12413  ENSMUSG00000029587   \n",
      "12414  ENSMUSG00000042670   \n",
      "12415  ENSMUSG00000036955   \n",
      "12416  ENSMUSG00000036957   \n",
      "12417  ENSMUSG00000036959   \n",
      "\n",
      "      GeneSymbol/Users/jimmiinguyen/Downloads/GSE131671_LungBasal.coding.qn.txt  \\\n",
      "0                                                 Zranb2                          \n",
      "1                                                  Lphn2                          \n",
      "2                                                   Rpf1                          \n",
      "3                                                   Ctbs                          \n",
      "4                                                 Spata1                          \n",
      "...                                                  ...                          \n",
      "12413                                              Zfp12                          \n",
      "12414                                             Immp1l                          \n",
      "12415                                      2510003E04Rik                          \n",
      "12416                                              Lrfn3                          \n",
      "12417                                             Bcorl1                          \n",
      "\n",
      "       SJW-RNA_CRE-2  SJW-RNA_CRE-3  SJW-RNA_WT-1  SJW-RNA_WT-2  SJW-RNA_WT-3  \\\n",
      "0          47.558883      39.157967     54.080000     52.865800     45.259067   \n",
      "1           9.477885       9.683098     15.004183     11.317450     11.699550   \n",
      "2          11.118883      12.782617      9.964692     11.593400     13.001617   \n",
      "3           5.547977       4.455377      9.273210      5.704712      4.139222   \n",
      "4           1.015054       0.698137      1.136600      0.996578      1.142347   \n",
      "...              ...            ...           ...           ...           ...   \n",
      "12413       7.727370       6.037838      6.673563      7.260952      6.630965   \n",
      "12414      16.009683      12.171600     17.790033     13.087833     15.730608   \n",
      "12415      11.333400      10.385882     14.662617     10.968717      9.749236   \n",
      "12416       0.789601       1.016602      1.044560      0.776389      0.676479   \n",
      "12417       4.003262       4.829638      4.192355      4.250432      4.237662   \n",
      "\n",
      "       Sum Controls  Sum DNp63 KD  Mean Controls  Mean DNp63 KD  STD Controls  \\\n",
      "0        152.204867     86.716850      50.734956      43.358425      4.780961   \n",
      "1         38.021183     19.160983      12.673728       9.580492      2.027256   \n",
      "2         34.559708     23.901500      11.519903      11.950750      1.519796   \n",
      "3         19.117143     10.003353       6.372381       5.001677      2.631311   \n",
      "4          3.275524      1.713191       1.091841       0.856596      0.082551   \n",
      "...             ...           ...            ...            ...           ...   \n",
      "12413     20.565480     13.765208       6.855160       6.882604      0.352071   \n",
      "12414     46.608475     28.181283      15.536158      14.090642      2.357123   \n",
      "12415     35.380569     21.719282      11.793523      10.859641      2.558429   \n",
      "12416      2.497428      1.806203       0.832476       0.903101      0.190342   \n",
      "12417     12.680448      8.832900       4.226816       4.416450      0.030520   \n",
      "\n",
      "       STD DNp63 KD  \n",
      "0          5.940345  \n",
      "1          0.145108  \n",
      "2          1.176437  \n",
      "3          0.772585  \n",
      "4          0.224095  \n",
      "...             ...  \n",
      "12413      1.194679  \n",
      "12414      2.713935  \n",
      "12415      0.669997  \n",
      "12416      0.160514  \n",
      "12417      0.584337  \n",
      "\n",
      "[12418 rows x 13 columns]\n"
     ]
    }
   ],
   "source": [
    "# Create column that gives sum of reads for each gene\n",
    "counts_processed['Sum Controls'] = counts_processed[DNp63_control].sum(axis=1)\n",
    "counts_processed['Sum DNp63 KD'] = counts_processed[DNp63_KD].sum(axis=1)\n",
    "\n",
    "# Create column that gives mean of reads\n",
    "counts_processed['Mean Controls'] = counts_processed[DNp63_control].mean(axis=1)\n",
    "counts_processed['Mean DNp63 KD'] = counts_processed[DNp63_KD].mean(axis=1)\n",
    "\n",
    "# Create column that gives standard deviation of reads\n",
    "counts_processed['STD Controls'] = counts_processed[DNp63_control].std(axis=1)\n",
    "counts_processed['STD DNp63 KD'] = counts_processed[DNp63_KD].std(axis=1)\n",
    "\n",
    "# Print check\n",
    "print(counts_processed)"
   ]
  },
  {
   "cell_type": "code",
   "execution_count": 13,
   "id": "bdbf486e",
   "metadata": {
    "scrolled": true
   },
   "outputs": [
    {
     "name": "stdout",
     "output_type": "stream",
     "text": [
      "                   GeneSymbol/Users/jimmiinguyen/Downloads/GSE131671_LungBasal.coding.qn.txt  \\\n",
      "EnsembleID                                                                                     \n",
      "ENSMUSG00000028180                                             Zranb2                          \n",
      "ENSMUSG00000028184                                              Lphn2                          \n",
      "ENSMUSG00000028187                                               Rpf1                          \n",
      "ENSMUSG00000028189                                               Ctbs                          \n",
      "ENSMUSG00000028188                                             Spata1                          \n",
      "...                                                               ...                          \n",
      "ENSMUSG00000042670                                             Immp1l                          \n",
      "ENSMUSG00000036955                                      2510003E04Rik                          \n",
      "ENSMUSG00000036957                                              Lrfn3                          \n",
      "ENSMUSG00000036959                                             Bcorl1                          \n",
      "total Column Count                                                NaN                          \n",
      "\n",
      "                    SJW-RNA_CRE-2  SJW-RNA_CRE-3   SJW-RNA_WT-1  \\\n",
      "EnsembleID                                                        \n",
      "ENSMUSG00000028180      47.558883      39.157967      54.080000   \n",
      "ENSMUSG00000028184       9.477885       9.683098      15.004183   \n",
      "ENSMUSG00000028187      11.118883      12.782617       9.964692   \n",
      "ENSMUSG00000028189       5.547977       4.455377       9.273210   \n",
      "ENSMUSG00000028188       1.015054       0.698137       1.136600   \n",
      "...                           ...            ...            ...   \n",
      "ENSMUSG00000042670      16.009683      12.171600      17.790033   \n",
      "ENSMUSG00000036955      11.333400      10.385882      14.662617   \n",
      "ENSMUSG00000036957       0.789601       1.016602       1.044560   \n",
      "ENSMUSG00000036959       4.003262       4.829638       4.192355   \n",
      "total Column Count  521810.574465  494566.430980  431373.133419   \n",
      "\n",
      "                     SJW-RNA_WT-2   SJW-RNA_WT-3  Sum Controls  Sum DNp63 KD  \\\n",
      "EnsembleID                                                                     \n",
      "ENSMUSG00000028180      52.865800      45.259067  1.522049e+02  8.671685e+01   \n",
      "ENSMUSG00000028184      11.317450      11.699550  3.802118e+01  1.916098e+01   \n",
      "ENSMUSG00000028187      11.593400      13.001617  3.455971e+01  2.390150e+01   \n",
      "ENSMUSG00000028189       5.704712       4.139222  1.911714e+01  1.000335e+01   \n",
      "ENSMUSG00000028188       0.996578       1.142347  3.275524e+00  1.713191e+00   \n",
      "...                           ...            ...           ...           ...   \n",
      "ENSMUSG00000042670      13.087833      15.730608  4.660847e+01  2.818128e+01   \n",
      "ENSMUSG00000036955      10.968717       9.749236  3.538057e+01  2.171928e+01   \n",
      "ENSMUSG00000036957       0.776389       0.676479  2.497428e+00  1.806203e+00   \n",
      "ENSMUSG00000036959       4.250432       4.237662  1.268045e+01  8.832900e+00   \n",
      "total Column Count  440271.467261  491848.127528  1.363493e+06  1.016377e+06   \n",
      "\n",
      "                    Mean Controls  Mean DNp63 KD  STD Controls  STD DNp63 KD  \n",
      "EnsembleID                                                                    \n",
      "ENSMUSG00000028180      50.734956      43.358425      4.780961      5.940345  \n",
      "ENSMUSG00000028184      12.673728       9.580492      2.027256      0.145108  \n",
      "ENSMUSG00000028187      11.519903      11.950750      1.519796      1.176437  \n",
      "ENSMUSG00000028189       6.372381       5.001677      2.631311      0.772585  \n",
      "ENSMUSG00000028188       1.091841       0.856596      0.082551      0.224095  \n",
      "...                           ...            ...           ...           ...  \n",
      "ENSMUSG00000042670      15.536158      14.090642      2.357123      2.713935  \n",
      "ENSMUSG00000036955      11.793523      10.859641      2.558429      0.669997  \n",
      "ENSMUSG00000036957       0.832476       0.903101      0.190342      0.160514  \n",
      "ENSMUSG00000036959       4.226816       4.416450      0.030520      0.584337  \n",
      "total Column Count            NaN            NaN           NaN           NaN  \n",
      "\n",
      "[12419 rows x 12 columns]\n"
     ]
    }
   ],
   "source": [
    "# Add a row that has sum of each column to dataframe\n",
    "Sum_Dict = {'EnsembleID': 'total Column Count',\n",
    "            'SJW-RNA_CRE-2': counts_processed['SJW-RNA_CRE-2'].sum(),\n",
    "            'SJW-RNA_CRE-3': counts_processed['SJW-RNA_CRE-3'].sum(), \n",
    "            'SJW-RNA_WT-1': counts_processed['SJW-RNA_WT-1'].sum(), \n",
    "            'SJW-RNA_WT-2': counts_processed['SJW-RNA_WT-2'].sum(), \n",
    "            'SJW-RNA_WT-3': counts_processed['SJW-RNA_WT-3'].sum(),\n",
    "            'Sum Controls': counts_processed['Sum Controls'].sum(),\n",
    "            'Sum DNp63 KD': counts_processed['Sum DNp63 KD'].sum()\n",
    "           }\n",
    "counts_processed = counts_processed.append(Sum_Dict, ignore_index = True)\n",
    "# Change index to 'EnsembleID'\n",
    "counts_processed = counts_processed.set_index('EnsembleID')\n",
    "# Print check\n",
    "print(counts_processed)"
   ]
  },
  {
   "cell_type": "code",
   "execution_count": 14,
   "id": "dbcb101b",
   "metadata": {},
   "outputs": [
    {
     "ename": "KeyError",
     "evalue": "'length'",
     "output_type": "error",
     "traceback": [
      "\u001b[0;31m---------------------------------------------------------------------------\u001b[0m",
      "\u001b[0;31mKeyError\u001b[0m                                  Traceback (most recent call last)",
      "\u001b[0;32m~/opt/anaconda3/lib/python3.9/site-packages/pandas/core/indexes/base.py\u001b[0m in \u001b[0;36mget_loc\u001b[0;34m(self, key, method, tolerance)\u001b[0m\n\u001b[1;32m   3360\u001b[0m             \u001b[0;32mtry\u001b[0m\u001b[0;34m:\u001b[0m\u001b[0;34m\u001b[0m\u001b[0;34m\u001b[0m\u001b[0m\n\u001b[0;32m-> 3361\u001b[0;31m                 \u001b[0;32mreturn\u001b[0m \u001b[0mself\u001b[0m\u001b[0;34m.\u001b[0m\u001b[0m_engine\u001b[0m\u001b[0;34m.\u001b[0m\u001b[0mget_loc\u001b[0m\u001b[0;34m(\u001b[0m\u001b[0mcasted_key\u001b[0m\u001b[0;34m)\u001b[0m\u001b[0;34m\u001b[0m\u001b[0;34m\u001b[0m\u001b[0m\n\u001b[0m\u001b[1;32m   3362\u001b[0m             \u001b[0;32mexcept\u001b[0m \u001b[0mKeyError\u001b[0m \u001b[0;32mas\u001b[0m \u001b[0merr\u001b[0m\u001b[0;34m:\u001b[0m\u001b[0;34m\u001b[0m\u001b[0;34m\u001b[0m\u001b[0m\n",
      "\u001b[0;32m~/opt/anaconda3/lib/python3.9/site-packages/pandas/_libs/index.pyx\u001b[0m in \u001b[0;36mpandas._libs.index.IndexEngine.get_loc\u001b[0;34m()\u001b[0m\n",
      "\u001b[0;32m~/opt/anaconda3/lib/python3.9/site-packages/pandas/_libs/index.pyx\u001b[0m in \u001b[0;36mpandas._libs.index.IndexEngine.get_loc\u001b[0;34m()\u001b[0m\n",
      "\u001b[0;32mpandas/_libs/hashtable_class_helper.pxi\u001b[0m in \u001b[0;36mpandas._libs.hashtable.PyObjectHashTable.get_item\u001b[0;34m()\u001b[0m\n",
      "\u001b[0;32mpandas/_libs/hashtable_class_helper.pxi\u001b[0m in \u001b[0;36mpandas._libs.hashtable.PyObjectHashTable.get_item\u001b[0;34m()\u001b[0m\n",
      "\u001b[0;31mKeyError\u001b[0m: 'length'",
      "\nThe above exception was the direct cause of the following exception:\n",
      "\u001b[0;31mKeyError\u001b[0m                                  Traceback (most recent call last)",
      "\u001b[0;32m/var/folders/sb/spq6ttjd6fx2m3p4bpcb39wh0000gn/T/ipykernel_81032/2844534969.py\u001b[0m in \u001b[0;36m<module>\u001b[0;34m\u001b[0m\n\u001b[0;32m----> 1\u001b[0;31m \u001b[0mcounts_processed\u001b[0m\u001b[0;34m[\u001b[0m\u001b[0;34m'FPKM_controls'\u001b[0m\u001b[0;34m]\u001b[0m \u001b[0;34m=\u001b[0m \u001b[0;34m(\u001b[0m\u001b[0;34m(\u001b[0m\u001b[0mcounts_processed\u001b[0m\u001b[0;34m[\u001b[0m\u001b[0;34m'Sum Controls'\u001b[0m\u001b[0;34m]\u001b[0m \u001b[0;34m*\u001b[0m \u001b[0;34m(\u001b[0m\u001b[0;36m10\u001b[0m \u001b[0;34m**\u001b[0m \u001b[0;36m9\u001b[0m\u001b[0;34m)\u001b[0m\u001b[0;34m)\u001b[0m\u001b[0;34m)\u001b[0m\u001b[0;34m/\u001b[0m\u001b[0;34m(\u001b[0m\u001b[0mcounts_processed\u001b[0m\u001b[0;34m[\u001b[0m\u001b[0;34m'length'\u001b[0m\u001b[0;34m]\u001b[0m \u001b[0;34m*\u001b[0m \u001b[0;34m(\u001b[0m\u001b[0mcounts_processed\u001b[0m\u001b[0;34m.\u001b[0m\u001b[0mloc\u001b[0m\u001b[0;34m[\u001b[0m\u001b[0;34m'total Column Count'\u001b[0m\u001b[0;34m]\u001b[0m\u001b[0;34m[\u001b[0m\u001b[0;34m'Sum Control'\u001b[0m\u001b[0;34m]\u001b[0m\u001b[0;34m)\u001b[0m\u001b[0;34m)\u001b[0m\u001b[0;34m\u001b[0m\u001b[0;34m\u001b[0m\u001b[0m\n\u001b[0m\u001b[1;32m      2\u001b[0m \u001b[0mcounts_processed\u001b[0m\u001b[0;34m[\u001b[0m\u001b[0;34m'FPKM_DNp63 KD'\u001b[0m\u001b[0;34m]\u001b[0m \u001b[0;34m=\u001b[0m \u001b[0;34m(\u001b[0m\u001b[0;34m(\u001b[0m\u001b[0mcounts_processed\u001b[0m\u001b[0;34m[\u001b[0m\u001b[0;34m'Sum DNp63 KD'\u001b[0m\u001b[0;34m]\u001b[0m \u001b[0;34m*\u001b[0m \u001b[0;34m(\u001b[0m\u001b[0;36m10\u001b[0m \u001b[0;34m**\u001b[0m \u001b[0;36m9\u001b[0m\u001b[0;34m)\u001b[0m\u001b[0;34m)\u001b[0m\u001b[0;34m)\u001b[0m\u001b[0;34m/\u001b[0m\u001b[0;34m(\u001b[0m\u001b[0mcounts_processed\u001b[0m\u001b[0;34m[\u001b[0m\u001b[0;34m'length'\u001b[0m\u001b[0;34m]\u001b[0m \u001b[0;34m*\u001b[0m \u001b[0;34m(\u001b[0m\u001b[0mcounts_processed\u001b[0m\u001b[0;34m.\u001b[0m\u001b[0mloc\u001b[0m\u001b[0;34m[\u001b[0m\u001b[0;34m'total Column Count'\u001b[0m\u001b[0;34m]\u001b[0m\u001b[0;34m[\u001b[0m\u001b[0;34m'Sum DNp63 KD'\u001b[0m\u001b[0;34m]\u001b[0m\u001b[0;34m)\u001b[0m\u001b[0;34m)\u001b[0m\u001b[0;34m\u001b[0m\u001b[0;34m\u001b[0m\u001b[0m\n\u001b[1;32m      3\u001b[0m \u001b[0mprint\u001b[0m\u001b[0;34m(\u001b[0m\u001b[0mcounts_processed\u001b[0m\u001b[0;34m.\u001b[0m\u001b[0mhead\u001b[0m\u001b[0;34m(\u001b[0m\u001b[0;34m)\u001b[0m\u001b[0;34m)\u001b[0m\u001b[0;34m\u001b[0m\u001b[0;34m\u001b[0m\u001b[0m\n",
      "\u001b[0;32m~/opt/anaconda3/lib/python3.9/site-packages/pandas/core/frame.py\u001b[0m in \u001b[0;36m__getitem__\u001b[0;34m(self, key)\u001b[0m\n\u001b[1;32m   3456\u001b[0m             \u001b[0;32mif\u001b[0m \u001b[0mself\u001b[0m\u001b[0;34m.\u001b[0m\u001b[0mcolumns\u001b[0m\u001b[0;34m.\u001b[0m\u001b[0mnlevels\u001b[0m \u001b[0;34m>\u001b[0m \u001b[0;36m1\u001b[0m\u001b[0;34m:\u001b[0m\u001b[0;34m\u001b[0m\u001b[0;34m\u001b[0m\u001b[0m\n\u001b[1;32m   3457\u001b[0m                 \u001b[0;32mreturn\u001b[0m \u001b[0mself\u001b[0m\u001b[0;34m.\u001b[0m\u001b[0m_getitem_multilevel\u001b[0m\u001b[0;34m(\u001b[0m\u001b[0mkey\u001b[0m\u001b[0;34m)\u001b[0m\u001b[0;34m\u001b[0m\u001b[0;34m\u001b[0m\u001b[0m\n\u001b[0;32m-> 3458\u001b[0;31m             \u001b[0mindexer\u001b[0m \u001b[0;34m=\u001b[0m \u001b[0mself\u001b[0m\u001b[0;34m.\u001b[0m\u001b[0mcolumns\u001b[0m\u001b[0;34m.\u001b[0m\u001b[0mget_loc\u001b[0m\u001b[0;34m(\u001b[0m\u001b[0mkey\u001b[0m\u001b[0;34m)\u001b[0m\u001b[0;34m\u001b[0m\u001b[0;34m\u001b[0m\u001b[0m\n\u001b[0m\u001b[1;32m   3459\u001b[0m             \u001b[0;32mif\u001b[0m \u001b[0mis_integer\u001b[0m\u001b[0;34m(\u001b[0m\u001b[0mindexer\u001b[0m\u001b[0;34m)\u001b[0m\u001b[0;34m:\u001b[0m\u001b[0;34m\u001b[0m\u001b[0;34m\u001b[0m\u001b[0m\n\u001b[1;32m   3460\u001b[0m                 \u001b[0mindexer\u001b[0m \u001b[0;34m=\u001b[0m \u001b[0;34m[\u001b[0m\u001b[0mindexer\u001b[0m\u001b[0;34m]\u001b[0m\u001b[0;34m\u001b[0m\u001b[0;34m\u001b[0m\u001b[0m\n",
      "\u001b[0;32m~/opt/anaconda3/lib/python3.9/site-packages/pandas/core/indexes/base.py\u001b[0m in \u001b[0;36mget_loc\u001b[0;34m(self, key, method, tolerance)\u001b[0m\n\u001b[1;32m   3361\u001b[0m                 \u001b[0;32mreturn\u001b[0m \u001b[0mself\u001b[0m\u001b[0;34m.\u001b[0m\u001b[0m_engine\u001b[0m\u001b[0;34m.\u001b[0m\u001b[0mget_loc\u001b[0m\u001b[0;34m(\u001b[0m\u001b[0mcasted_key\u001b[0m\u001b[0;34m)\u001b[0m\u001b[0;34m\u001b[0m\u001b[0;34m\u001b[0m\u001b[0m\n\u001b[1;32m   3362\u001b[0m             \u001b[0;32mexcept\u001b[0m \u001b[0mKeyError\u001b[0m \u001b[0;32mas\u001b[0m \u001b[0merr\u001b[0m\u001b[0;34m:\u001b[0m\u001b[0;34m\u001b[0m\u001b[0;34m\u001b[0m\u001b[0m\n\u001b[0;32m-> 3363\u001b[0;31m                 \u001b[0;32mraise\u001b[0m \u001b[0mKeyError\u001b[0m\u001b[0;34m(\u001b[0m\u001b[0mkey\u001b[0m\u001b[0;34m)\u001b[0m \u001b[0;32mfrom\u001b[0m \u001b[0merr\u001b[0m\u001b[0;34m\u001b[0m\u001b[0;34m\u001b[0m\u001b[0m\n\u001b[0m\u001b[1;32m   3364\u001b[0m \u001b[0;34m\u001b[0m\u001b[0m\n\u001b[1;32m   3365\u001b[0m         \u001b[0;32mif\u001b[0m \u001b[0mis_scalar\u001b[0m\u001b[0;34m(\u001b[0m\u001b[0mkey\u001b[0m\u001b[0;34m)\u001b[0m \u001b[0;32mand\u001b[0m \u001b[0misna\u001b[0m\u001b[0;34m(\u001b[0m\u001b[0mkey\u001b[0m\u001b[0;34m)\u001b[0m \u001b[0;32mand\u001b[0m \u001b[0;32mnot\u001b[0m \u001b[0mself\u001b[0m\u001b[0;34m.\u001b[0m\u001b[0mhasnans\u001b[0m\u001b[0;34m:\u001b[0m\u001b[0;34m\u001b[0m\u001b[0;34m\u001b[0m\u001b[0m\n",
      "\u001b[0;31mKeyError\u001b[0m: 'length'"
     ]
    }
   ],
   "source": [
    "# Calculate FPKM for control and DeltaNp63 knockout\n",
    "counts_processed['FPKM_controls'] = ((counts_processed['Sum Controls'] * (10 ** 9)))/(counts_processed['length'] * (counts_processed.loc['total Column Count']['Sum Control']))\n",
    "counts_processed['FPKM_DNp63 KD'] = ((counts_processed['Sum DNp63 KD'] * (10 ** 9)))/(counts_processed['length'] * (counts_processed.loc['total Column Count']['Sum DNp63 KD']))\n",
    "# Print check\n",
    "print(counts_processed.head())"
   ]
  },
  {
   "cell_type": "code",
   "execution_count": 15,
   "id": "c312d787",
   "metadata": {},
   "outputs": [
    {
     "ename": "KeyError",
     "evalue": "'FPKM_DNp63'",
     "output_type": "error",
     "traceback": [
      "\u001b[0;31m---------------------------------------------------------------------------\u001b[0m",
      "\u001b[0;31mKeyError\u001b[0m                                  Traceback (most recent call last)",
      "\u001b[0;32m~/opt/anaconda3/lib/python3.9/site-packages/pandas/core/indexes/base.py\u001b[0m in \u001b[0;36mget_loc\u001b[0;34m(self, key, method, tolerance)\u001b[0m\n\u001b[1;32m   3360\u001b[0m             \u001b[0;32mtry\u001b[0m\u001b[0;34m:\u001b[0m\u001b[0;34m\u001b[0m\u001b[0;34m\u001b[0m\u001b[0m\n\u001b[0;32m-> 3361\u001b[0;31m                 \u001b[0;32mreturn\u001b[0m \u001b[0mself\u001b[0m\u001b[0;34m.\u001b[0m\u001b[0m_engine\u001b[0m\u001b[0;34m.\u001b[0m\u001b[0mget_loc\u001b[0m\u001b[0;34m(\u001b[0m\u001b[0mcasted_key\u001b[0m\u001b[0;34m)\u001b[0m\u001b[0;34m\u001b[0m\u001b[0;34m\u001b[0m\u001b[0m\n\u001b[0m\u001b[1;32m   3362\u001b[0m             \u001b[0;32mexcept\u001b[0m \u001b[0mKeyError\u001b[0m \u001b[0;32mas\u001b[0m \u001b[0merr\u001b[0m\u001b[0;34m:\u001b[0m\u001b[0;34m\u001b[0m\u001b[0;34m\u001b[0m\u001b[0m\n",
      "\u001b[0;32m~/opt/anaconda3/lib/python3.9/site-packages/pandas/_libs/index.pyx\u001b[0m in \u001b[0;36mpandas._libs.index.IndexEngine.get_loc\u001b[0;34m()\u001b[0m\n",
      "\u001b[0;32m~/opt/anaconda3/lib/python3.9/site-packages/pandas/_libs/index.pyx\u001b[0m in \u001b[0;36mpandas._libs.index.IndexEngine.get_loc\u001b[0;34m()\u001b[0m\n",
      "\u001b[0;32mpandas/_libs/hashtable_class_helper.pxi\u001b[0m in \u001b[0;36mpandas._libs.hashtable.PyObjectHashTable.get_item\u001b[0;34m()\u001b[0m\n",
      "\u001b[0;32mpandas/_libs/hashtable_class_helper.pxi\u001b[0m in \u001b[0;36mpandas._libs.hashtable.PyObjectHashTable.get_item\u001b[0;34m()\u001b[0m\n",
      "\u001b[0;31mKeyError\u001b[0m: 'FPKM_DNp63'",
      "\nThe above exception was the direct cause of the following exception:\n",
      "\u001b[0;31mKeyError\u001b[0m                                  Traceback (most recent call last)",
      "\u001b[0;32m/var/folders/sb/spq6ttjd6fx2m3p4bpcb39wh0000gn/T/ipykernel_81032/1950258807.py\u001b[0m in \u001b[0;36m<module>\u001b[0;34m\u001b[0m\n\u001b[0;32m----> 1\u001b[0;31m \u001b[0mFold_change\u001b[0m \u001b[0;34m=\u001b[0m \u001b[0mcounts_processed\u001b[0m\u001b[0;34m[\u001b[0m\u001b[0;34m'FPKM_DNp63'\u001b[0m\u001b[0;34m]\u001b[0m\u001b[0;34m/\u001b[0m\u001b[0mcounts_processed\u001b[0m\u001b[0;34m[\u001b[0m\u001b[0;34m'FPKM_controls'\u001b[0m\u001b[0;34m]\u001b[0m\u001b[0;34m\u001b[0m\u001b[0;34m\u001b[0m\u001b[0m\n\u001b[0m\u001b[1;32m      2\u001b[0m \u001b[0mcounts_processed\u001b[0m\u001b[0;34m[\u001b[0m\u001b[0;34m'L2F'\u001b[0m\u001b[0;34m]\u001b[0m \u001b[0;34m=\u001b[0m \u001b[0mnp\u001b[0m\u001b[0;34m.\u001b[0m\u001b[0mlog2\u001b[0m\u001b[0;34m(\u001b[0m\u001b[0mFold_change\u001b[0m\u001b[0;34m)\u001b[0m\u001b[0;34m\u001b[0m\u001b[0;34m\u001b[0m\u001b[0m\n\u001b[1;32m      3\u001b[0m \u001b[0mprint\u001b[0m\u001b[0;34m(\u001b[0m\u001b[0mcounts_processed\u001b[0m\u001b[0;34m.\u001b[0m\u001b[0mhead\u001b[0m\u001b[0;34m(\u001b[0m\u001b[0;34m)\u001b[0m\u001b[0;34m)\u001b[0m\u001b[0;34m\u001b[0m\u001b[0;34m\u001b[0m\u001b[0m\n",
      "\u001b[0;32m~/opt/anaconda3/lib/python3.9/site-packages/pandas/core/frame.py\u001b[0m in \u001b[0;36m__getitem__\u001b[0;34m(self, key)\u001b[0m\n\u001b[1;32m   3456\u001b[0m             \u001b[0;32mif\u001b[0m \u001b[0mself\u001b[0m\u001b[0;34m.\u001b[0m\u001b[0mcolumns\u001b[0m\u001b[0;34m.\u001b[0m\u001b[0mnlevels\u001b[0m \u001b[0;34m>\u001b[0m \u001b[0;36m1\u001b[0m\u001b[0;34m:\u001b[0m\u001b[0;34m\u001b[0m\u001b[0;34m\u001b[0m\u001b[0m\n\u001b[1;32m   3457\u001b[0m                 \u001b[0;32mreturn\u001b[0m \u001b[0mself\u001b[0m\u001b[0;34m.\u001b[0m\u001b[0m_getitem_multilevel\u001b[0m\u001b[0;34m(\u001b[0m\u001b[0mkey\u001b[0m\u001b[0;34m)\u001b[0m\u001b[0;34m\u001b[0m\u001b[0;34m\u001b[0m\u001b[0m\n\u001b[0;32m-> 3458\u001b[0;31m             \u001b[0mindexer\u001b[0m \u001b[0;34m=\u001b[0m \u001b[0mself\u001b[0m\u001b[0;34m.\u001b[0m\u001b[0mcolumns\u001b[0m\u001b[0;34m.\u001b[0m\u001b[0mget_loc\u001b[0m\u001b[0;34m(\u001b[0m\u001b[0mkey\u001b[0m\u001b[0;34m)\u001b[0m\u001b[0;34m\u001b[0m\u001b[0;34m\u001b[0m\u001b[0m\n\u001b[0m\u001b[1;32m   3459\u001b[0m             \u001b[0;32mif\u001b[0m \u001b[0mis_integer\u001b[0m\u001b[0;34m(\u001b[0m\u001b[0mindexer\u001b[0m\u001b[0;34m)\u001b[0m\u001b[0;34m:\u001b[0m\u001b[0;34m\u001b[0m\u001b[0;34m\u001b[0m\u001b[0m\n\u001b[1;32m   3460\u001b[0m                 \u001b[0mindexer\u001b[0m \u001b[0;34m=\u001b[0m \u001b[0;34m[\u001b[0m\u001b[0mindexer\u001b[0m\u001b[0;34m]\u001b[0m\u001b[0;34m\u001b[0m\u001b[0;34m\u001b[0m\u001b[0m\n",
      "\u001b[0;32m~/opt/anaconda3/lib/python3.9/site-packages/pandas/core/indexes/base.py\u001b[0m in \u001b[0;36mget_loc\u001b[0;34m(self, key, method, tolerance)\u001b[0m\n\u001b[1;32m   3361\u001b[0m                 \u001b[0;32mreturn\u001b[0m \u001b[0mself\u001b[0m\u001b[0;34m.\u001b[0m\u001b[0m_engine\u001b[0m\u001b[0;34m.\u001b[0m\u001b[0mget_loc\u001b[0m\u001b[0;34m(\u001b[0m\u001b[0mcasted_key\u001b[0m\u001b[0;34m)\u001b[0m\u001b[0;34m\u001b[0m\u001b[0;34m\u001b[0m\u001b[0m\n\u001b[1;32m   3362\u001b[0m             \u001b[0;32mexcept\u001b[0m \u001b[0mKeyError\u001b[0m \u001b[0;32mas\u001b[0m \u001b[0merr\u001b[0m\u001b[0;34m:\u001b[0m\u001b[0;34m\u001b[0m\u001b[0;34m\u001b[0m\u001b[0m\n\u001b[0;32m-> 3363\u001b[0;31m                 \u001b[0;32mraise\u001b[0m \u001b[0mKeyError\u001b[0m\u001b[0;34m(\u001b[0m\u001b[0mkey\u001b[0m\u001b[0;34m)\u001b[0m \u001b[0;32mfrom\u001b[0m \u001b[0merr\u001b[0m\u001b[0;34m\u001b[0m\u001b[0;34m\u001b[0m\u001b[0m\n\u001b[0m\u001b[1;32m   3364\u001b[0m \u001b[0;34m\u001b[0m\u001b[0m\n\u001b[1;32m   3365\u001b[0m         \u001b[0;32mif\u001b[0m \u001b[0mis_scalar\u001b[0m\u001b[0;34m(\u001b[0m\u001b[0mkey\u001b[0m\u001b[0;34m)\u001b[0m \u001b[0;32mand\u001b[0m \u001b[0misna\u001b[0m\u001b[0;34m(\u001b[0m\u001b[0mkey\u001b[0m\u001b[0;34m)\u001b[0m \u001b[0;32mand\u001b[0m \u001b[0;32mnot\u001b[0m \u001b[0mself\u001b[0m\u001b[0;34m.\u001b[0m\u001b[0mhasnans\u001b[0m\u001b[0;34m:\u001b[0m\u001b[0;34m\u001b[0m\u001b[0;34m\u001b[0m\u001b[0m\n",
      "\u001b[0;31mKeyError\u001b[0m: 'FPKM_DNp63'"
     ]
    }
   ],
   "source": [
    "# Calculate Log Fold change between DeltaNp63 knockout and control\n",
    "Fold_change = counts_processed['FPKM_DNp63']/counts_processed['FPKM_controls']\n",
    "counts_processed['L2F'] = np.log2(Fold_change)\n",
    "# Print check\n",
    "print(counts_processed.head())"
   ]
  },
  {
   "cell_type": "code",
   "execution_count": 16,
   "id": "5c9ded4c",
   "metadata": {
    "scrolled": true
   },
   "outputs": [
    {
     "name": "stderr",
     "output_type": "stream",
     "text": [
      "/Users/jimmiinguyen/opt/anaconda3/lib/python3.9/site-packages/scipy/stats/stats.py:5705: RuntimeWarning: invalid value encountered in sqrt\n",
      "  denom = np.sqrt(svar * (1.0 / n1 + 1.0 / n2))\n"
     ]
    },
    {
     "ename": "ZeroDivisionError",
     "evalue": "float division by zero",
     "output_type": "error",
     "traceback": [
      "\u001b[0;31m---------------------------------------------------------------------------\u001b[0m",
      "\u001b[0;31mZeroDivisionError\u001b[0m                         Traceback (most recent call last)",
      "\u001b[0;32m/var/folders/sb/spq6ttjd6fx2m3p4bpcb39wh0000gn/T/ipykernel_81032/3434868687.py\u001b[0m in \u001b[0;36m<module>\u001b[0;34m\u001b[0m\n\u001b[0;32m----> 1\u001b[0;31m \u001b[0mcounts_processed\u001b[0m\u001b[0;34m[\u001b[0m\u001b[0;34m'p-value'\u001b[0m\u001b[0;34m]\u001b[0m \u001b[0;34m=\u001b[0m \u001b[0mcounts_processed\u001b[0m\u001b[0;34m.\u001b[0m\u001b[0mapply\u001b[0m\u001b[0;34m(\u001b[0m\u001b[0;32mlambda\u001b[0m \u001b[0mx\u001b[0m\u001b[0;34m:\u001b[0m \u001b[0mstats\u001b[0m\u001b[0;34m.\u001b[0m\u001b[0mttest_ind_from_stats\u001b[0m\u001b[0;34m(\u001b[0m\u001b[0mx\u001b[0m\u001b[0;34m[\u001b[0m\u001b[0;34m'Mean Controls'\u001b[0m\u001b[0;34m]\u001b[0m\u001b[0;34m,\u001b[0m\u001b[0mx\u001b[0m\u001b[0;34m[\u001b[0m\u001b[0;34m'STD Controls'\u001b[0m\u001b[0;34m]\u001b[0m\u001b[0;34m,\u001b[0m\u001b[0mx\u001b[0m\u001b[0;34m[\u001b[0m\u001b[0;34m'Sum Controls'\u001b[0m\u001b[0;34m]\u001b[0m\u001b[0;34m,\u001b[0m \u001b[0mx\u001b[0m\u001b[0;34m[\u001b[0m\u001b[0;34m'Mean DNp63 KD'\u001b[0m\u001b[0;34m]\u001b[0m\u001b[0;34m,\u001b[0m\u001b[0mx\u001b[0m\u001b[0;34m[\u001b[0m\u001b[0;34m'STD DNp63 KD'\u001b[0m\u001b[0;34m]\u001b[0m\u001b[0;34m,\u001b[0m\u001b[0mx\u001b[0m\u001b[0;34m[\u001b[0m\u001b[0;34m'Sum DNp63 KD'\u001b[0m\u001b[0;34m]\u001b[0m\u001b[0;34m)\u001b[0m\u001b[0;34m[\u001b[0m\u001b[0;36m1\u001b[0m\u001b[0;34m]\u001b[0m\u001b[0;34m,\u001b[0m\u001b[0maxis\u001b[0m\u001b[0;34m=\u001b[0m\u001b[0;36m1\u001b[0m\u001b[0;34m)\u001b[0m\u001b[0;34m\u001b[0m\u001b[0;34m\u001b[0m\u001b[0m\n\u001b[0m",
      "\u001b[0;32m~/opt/anaconda3/lib/python3.9/site-packages/pandas/core/frame.py\u001b[0m in \u001b[0;36mapply\u001b[0;34m(self, func, axis, raw, result_type, args, **kwargs)\u001b[0m\n\u001b[1;32m   8738\u001b[0m             \u001b[0mkwargs\u001b[0m\u001b[0;34m=\u001b[0m\u001b[0mkwargs\u001b[0m\u001b[0;34m,\u001b[0m\u001b[0;34m\u001b[0m\u001b[0;34m\u001b[0m\u001b[0m\n\u001b[1;32m   8739\u001b[0m         )\n\u001b[0;32m-> 8740\u001b[0;31m         \u001b[0;32mreturn\u001b[0m \u001b[0mop\u001b[0m\u001b[0;34m.\u001b[0m\u001b[0mapply\u001b[0m\u001b[0;34m(\u001b[0m\u001b[0;34m)\u001b[0m\u001b[0;34m\u001b[0m\u001b[0;34m\u001b[0m\u001b[0m\n\u001b[0m\u001b[1;32m   8741\u001b[0m \u001b[0;34m\u001b[0m\u001b[0m\n\u001b[1;32m   8742\u001b[0m     def applymap(\n",
      "\u001b[0;32m~/opt/anaconda3/lib/python3.9/site-packages/pandas/core/apply.py\u001b[0m in \u001b[0;36mapply\u001b[0;34m(self)\u001b[0m\n\u001b[1;32m    686\u001b[0m             \u001b[0;32mreturn\u001b[0m \u001b[0mself\u001b[0m\u001b[0;34m.\u001b[0m\u001b[0mapply_raw\u001b[0m\u001b[0;34m(\u001b[0m\u001b[0;34m)\u001b[0m\u001b[0;34m\u001b[0m\u001b[0;34m\u001b[0m\u001b[0m\n\u001b[1;32m    687\u001b[0m \u001b[0;34m\u001b[0m\u001b[0m\n\u001b[0;32m--> 688\u001b[0;31m         \u001b[0;32mreturn\u001b[0m \u001b[0mself\u001b[0m\u001b[0;34m.\u001b[0m\u001b[0mapply_standard\u001b[0m\u001b[0;34m(\u001b[0m\u001b[0;34m)\u001b[0m\u001b[0;34m\u001b[0m\u001b[0;34m\u001b[0m\u001b[0m\n\u001b[0m\u001b[1;32m    689\u001b[0m \u001b[0;34m\u001b[0m\u001b[0m\n\u001b[1;32m    690\u001b[0m     \u001b[0;32mdef\u001b[0m \u001b[0magg\u001b[0m\u001b[0;34m(\u001b[0m\u001b[0mself\u001b[0m\u001b[0;34m)\u001b[0m\u001b[0;34m:\u001b[0m\u001b[0;34m\u001b[0m\u001b[0;34m\u001b[0m\u001b[0m\n",
      "\u001b[0;32m~/opt/anaconda3/lib/python3.9/site-packages/pandas/core/apply.py\u001b[0m in \u001b[0;36mapply_standard\u001b[0;34m(self)\u001b[0m\n\u001b[1;32m    810\u001b[0m \u001b[0;34m\u001b[0m\u001b[0m\n\u001b[1;32m    811\u001b[0m     \u001b[0;32mdef\u001b[0m \u001b[0mapply_standard\u001b[0m\u001b[0;34m(\u001b[0m\u001b[0mself\u001b[0m\u001b[0;34m)\u001b[0m\u001b[0;34m:\u001b[0m\u001b[0;34m\u001b[0m\u001b[0;34m\u001b[0m\u001b[0m\n\u001b[0;32m--> 812\u001b[0;31m         \u001b[0mresults\u001b[0m\u001b[0;34m,\u001b[0m \u001b[0mres_index\u001b[0m \u001b[0;34m=\u001b[0m \u001b[0mself\u001b[0m\u001b[0;34m.\u001b[0m\u001b[0mapply_series_generator\u001b[0m\u001b[0;34m(\u001b[0m\u001b[0;34m)\u001b[0m\u001b[0;34m\u001b[0m\u001b[0;34m\u001b[0m\u001b[0m\n\u001b[0m\u001b[1;32m    813\u001b[0m \u001b[0;34m\u001b[0m\u001b[0m\n\u001b[1;32m    814\u001b[0m         \u001b[0;31m# wrap results\u001b[0m\u001b[0;34m\u001b[0m\u001b[0;34m\u001b[0m\u001b[0m\n",
      "\u001b[0;32m~/opt/anaconda3/lib/python3.9/site-packages/pandas/core/apply.py\u001b[0m in \u001b[0;36mapply_series_generator\u001b[0;34m(self)\u001b[0m\n\u001b[1;32m    826\u001b[0m             \u001b[0;32mfor\u001b[0m \u001b[0mi\u001b[0m\u001b[0;34m,\u001b[0m \u001b[0mv\u001b[0m \u001b[0;32min\u001b[0m \u001b[0menumerate\u001b[0m\u001b[0;34m(\u001b[0m\u001b[0mseries_gen\u001b[0m\u001b[0;34m)\u001b[0m\u001b[0;34m:\u001b[0m\u001b[0;34m\u001b[0m\u001b[0;34m\u001b[0m\u001b[0m\n\u001b[1;32m    827\u001b[0m                 \u001b[0;31m# ignore SettingWithCopy here in case the user mutates\u001b[0m\u001b[0;34m\u001b[0m\u001b[0;34m\u001b[0m\u001b[0m\n\u001b[0;32m--> 828\u001b[0;31m                 \u001b[0mresults\u001b[0m\u001b[0;34m[\u001b[0m\u001b[0mi\u001b[0m\u001b[0;34m]\u001b[0m \u001b[0;34m=\u001b[0m \u001b[0mself\u001b[0m\u001b[0;34m.\u001b[0m\u001b[0mf\u001b[0m\u001b[0;34m(\u001b[0m\u001b[0mv\u001b[0m\u001b[0;34m)\u001b[0m\u001b[0;34m\u001b[0m\u001b[0;34m\u001b[0m\u001b[0m\n\u001b[0m\u001b[1;32m    829\u001b[0m                 \u001b[0;32mif\u001b[0m \u001b[0misinstance\u001b[0m\u001b[0;34m(\u001b[0m\u001b[0mresults\u001b[0m\u001b[0;34m[\u001b[0m\u001b[0mi\u001b[0m\u001b[0;34m]\u001b[0m\u001b[0;34m,\u001b[0m \u001b[0mABCSeries\u001b[0m\u001b[0;34m)\u001b[0m\u001b[0;34m:\u001b[0m\u001b[0;34m\u001b[0m\u001b[0;34m\u001b[0m\u001b[0m\n\u001b[1;32m    830\u001b[0m                     \u001b[0;31m# If we have a view on v, we need to make a copy because\u001b[0m\u001b[0;34m\u001b[0m\u001b[0;34m\u001b[0m\u001b[0m\n",
      "\u001b[0;32m/var/folders/sb/spq6ttjd6fx2m3p4bpcb39wh0000gn/T/ipykernel_81032/3434868687.py\u001b[0m in \u001b[0;36m<lambda>\u001b[0;34m(x)\u001b[0m\n\u001b[0;32m----> 1\u001b[0;31m \u001b[0mcounts_processed\u001b[0m\u001b[0;34m[\u001b[0m\u001b[0;34m'p-value'\u001b[0m\u001b[0;34m]\u001b[0m \u001b[0;34m=\u001b[0m \u001b[0mcounts_processed\u001b[0m\u001b[0;34m.\u001b[0m\u001b[0mapply\u001b[0m\u001b[0;34m(\u001b[0m\u001b[0;32mlambda\u001b[0m \u001b[0mx\u001b[0m\u001b[0;34m:\u001b[0m \u001b[0mstats\u001b[0m\u001b[0;34m.\u001b[0m\u001b[0mttest_ind_from_stats\u001b[0m\u001b[0;34m(\u001b[0m\u001b[0mx\u001b[0m\u001b[0;34m[\u001b[0m\u001b[0;34m'Mean Controls'\u001b[0m\u001b[0;34m]\u001b[0m\u001b[0;34m,\u001b[0m\u001b[0mx\u001b[0m\u001b[0;34m[\u001b[0m\u001b[0;34m'STD Controls'\u001b[0m\u001b[0;34m]\u001b[0m\u001b[0;34m,\u001b[0m\u001b[0mx\u001b[0m\u001b[0;34m[\u001b[0m\u001b[0;34m'Sum Controls'\u001b[0m\u001b[0;34m]\u001b[0m\u001b[0;34m,\u001b[0m \u001b[0mx\u001b[0m\u001b[0;34m[\u001b[0m\u001b[0;34m'Mean DNp63 KD'\u001b[0m\u001b[0;34m]\u001b[0m\u001b[0;34m,\u001b[0m\u001b[0mx\u001b[0m\u001b[0;34m[\u001b[0m\u001b[0;34m'STD DNp63 KD'\u001b[0m\u001b[0;34m]\u001b[0m\u001b[0;34m,\u001b[0m\u001b[0mx\u001b[0m\u001b[0;34m[\u001b[0m\u001b[0;34m'Sum DNp63 KD'\u001b[0m\u001b[0;34m]\u001b[0m\u001b[0;34m)\u001b[0m\u001b[0;34m[\u001b[0m\u001b[0;36m1\u001b[0m\u001b[0;34m]\u001b[0m\u001b[0;34m,\u001b[0m\u001b[0maxis\u001b[0m\u001b[0;34m=\u001b[0m\u001b[0;36m1\u001b[0m\u001b[0;34m)\u001b[0m\u001b[0;34m\u001b[0m\u001b[0;34m\u001b[0m\u001b[0m\n\u001b[0m",
      "\u001b[0;32m~/opt/anaconda3/lib/python3.9/site-packages/scipy/stats/stats.py\u001b[0m in \u001b[0;36mttest_ind_from_stats\u001b[0;34m(mean1, std1, nobs1, mean2, std2, nobs2, equal_var, alternative)\u001b[0m\n\u001b[1;32m   5825\u001b[0m     \u001b[0mstd2\u001b[0m \u001b[0;34m=\u001b[0m \u001b[0mnp\u001b[0m\u001b[0;34m.\u001b[0m\u001b[0masarray\u001b[0m\u001b[0;34m(\u001b[0m\u001b[0mstd2\u001b[0m\u001b[0;34m)\u001b[0m\u001b[0;34m\u001b[0m\u001b[0;34m\u001b[0m\u001b[0m\n\u001b[1;32m   5826\u001b[0m     \u001b[0;32mif\u001b[0m \u001b[0mequal_var\u001b[0m\u001b[0;34m:\u001b[0m\u001b[0;34m\u001b[0m\u001b[0;34m\u001b[0m\u001b[0m\n\u001b[0;32m-> 5827\u001b[0;31m         \u001b[0mdf\u001b[0m\u001b[0;34m,\u001b[0m \u001b[0mdenom\u001b[0m \u001b[0;34m=\u001b[0m \u001b[0m_equal_var_ttest_denom\u001b[0m\u001b[0;34m(\u001b[0m\u001b[0mstd1\u001b[0m\u001b[0;34m**\u001b[0m\u001b[0;36m2\u001b[0m\u001b[0;34m,\u001b[0m \u001b[0mnobs1\u001b[0m\u001b[0;34m,\u001b[0m \u001b[0mstd2\u001b[0m\u001b[0;34m**\u001b[0m\u001b[0;36m2\u001b[0m\u001b[0;34m,\u001b[0m \u001b[0mnobs2\u001b[0m\u001b[0;34m)\u001b[0m\u001b[0;34m\u001b[0m\u001b[0;34m\u001b[0m\u001b[0m\n\u001b[0m\u001b[1;32m   5828\u001b[0m     \u001b[0;32melse\u001b[0m\u001b[0;34m:\u001b[0m\u001b[0;34m\u001b[0m\u001b[0;34m\u001b[0m\u001b[0m\n\u001b[1;32m   5829\u001b[0m         df, denom = _unequal_var_ttest_denom(std1**2, nobs1,\n",
      "\u001b[0;32m~/opt/anaconda3/lib/python3.9/site-packages/scipy/stats/stats.py\u001b[0m in \u001b[0;36m_equal_var_ttest_denom\u001b[0;34m(v1, n1, v2, n2)\u001b[0m\n\u001b[1;32m   5703\u001b[0m     \u001b[0mdf\u001b[0m \u001b[0;34m=\u001b[0m \u001b[0mn1\u001b[0m \u001b[0;34m+\u001b[0m \u001b[0mn2\u001b[0m \u001b[0;34m-\u001b[0m \u001b[0;36m2.0\u001b[0m\u001b[0;34m\u001b[0m\u001b[0;34m\u001b[0m\u001b[0m\n\u001b[1;32m   5704\u001b[0m     \u001b[0msvar\u001b[0m \u001b[0;34m=\u001b[0m \u001b[0;34m(\u001b[0m\u001b[0;34m(\u001b[0m\u001b[0mn1\u001b[0m \u001b[0;34m-\u001b[0m \u001b[0;36m1\u001b[0m\u001b[0;34m)\u001b[0m \u001b[0;34m*\u001b[0m \u001b[0mv1\u001b[0m \u001b[0;34m+\u001b[0m \u001b[0;34m(\u001b[0m\u001b[0mn2\u001b[0m \u001b[0;34m-\u001b[0m \u001b[0;36m1\u001b[0m\u001b[0;34m)\u001b[0m \u001b[0;34m*\u001b[0m \u001b[0mv2\u001b[0m\u001b[0;34m)\u001b[0m \u001b[0;34m/\u001b[0m \u001b[0mdf\u001b[0m\u001b[0;34m\u001b[0m\u001b[0;34m\u001b[0m\u001b[0m\n\u001b[0;32m-> 5705\u001b[0;31m     \u001b[0mdenom\u001b[0m \u001b[0;34m=\u001b[0m \u001b[0mnp\u001b[0m\u001b[0;34m.\u001b[0m\u001b[0msqrt\u001b[0m\u001b[0;34m(\u001b[0m\u001b[0msvar\u001b[0m \u001b[0;34m*\u001b[0m \u001b[0;34m(\u001b[0m\u001b[0;36m1.0\u001b[0m \u001b[0;34m/\u001b[0m \u001b[0mn1\u001b[0m \u001b[0;34m+\u001b[0m \u001b[0;36m1.0\u001b[0m \u001b[0;34m/\u001b[0m \u001b[0mn2\u001b[0m\u001b[0;34m)\u001b[0m\u001b[0;34m)\u001b[0m\u001b[0;34m\u001b[0m\u001b[0;34m\u001b[0m\u001b[0m\n\u001b[0m\u001b[1;32m   5706\u001b[0m     \u001b[0;32mreturn\u001b[0m \u001b[0mdf\u001b[0m\u001b[0;34m,\u001b[0m \u001b[0mdenom\u001b[0m\u001b[0;34m\u001b[0m\u001b[0;34m\u001b[0m\u001b[0m\n\u001b[1;32m   5707\u001b[0m \u001b[0;34m\u001b[0m\u001b[0m\n",
      "\u001b[0;31mZeroDivisionError\u001b[0m: float division by zero"
     ]
    }
   ],
   "source": [
    "# Calculate p-values using lambda function\n",
    "counts_processed['p-value'] = counts_processed.apply(lambda x: stats.ttest_ind_from_stats(x['Mean Controls'],x['STD Controls'],x['Sum Controls'], x['Mean DNp63 KD'],x['STD DNp63 KD'],x['Sum DNp63 KD'])[1],axis=1)"
   ]
  },
  {
   "cell_type": "markdown",
   "id": "74ead219",
   "metadata": {},
   "source": [
    "### Part 3B: Creat a volcanoplot (plotting method)\n",
    "\n",
    "Volcano plots can illustrate expression data analysis and numerous different method. In our case, volcano plots will plot a points significance (p-value) against its fold change.\n",
    "\n",
    "The code provided was referenced from Challenge Problem 4 in my BIMM 143 class.\n",
    "\n",
    "The packages necessary for plotting will be Matplotlib."
   ]
  },
  {
   "cell_type": "code",
   "execution_count": 17,
   "id": "8aafb7c9",
   "metadata": {},
   "outputs": [
    {
     "ename": "KeyError",
     "evalue": "'L2F'",
     "output_type": "error",
     "traceback": [
      "\u001b[0;31m---------------------------------------------------------------------------\u001b[0m",
      "\u001b[0;31mKeyError\u001b[0m                                  Traceback (most recent call last)",
      "\u001b[0;32m~/opt/anaconda3/lib/python3.9/site-packages/pandas/core/indexes/base.py\u001b[0m in \u001b[0;36mget_loc\u001b[0;34m(self, key, method, tolerance)\u001b[0m\n\u001b[1;32m   3360\u001b[0m             \u001b[0;32mtry\u001b[0m\u001b[0;34m:\u001b[0m\u001b[0;34m\u001b[0m\u001b[0;34m\u001b[0m\u001b[0m\n\u001b[0;32m-> 3361\u001b[0;31m                 \u001b[0;32mreturn\u001b[0m \u001b[0mself\u001b[0m\u001b[0;34m.\u001b[0m\u001b[0m_engine\u001b[0m\u001b[0;34m.\u001b[0m\u001b[0mget_loc\u001b[0m\u001b[0;34m(\u001b[0m\u001b[0mcasted_key\u001b[0m\u001b[0;34m)\u001b[0m\u001b[0;34m\u001b[0m\u001b[0;34m\u001b[0m\u001b[0m\n\u001b[0m\u001b[1;32m   3362\u001b[0m             \u001b[0;32mexcept\u001b[0m \u001b[0mKeyError\u001b[0m \u001b[0;32mas\u001b[0m \u001b[0merr\u001b[0m\u001b[0;34m:\u001b[0m\u001b[0;34m\u001b[0m\u001b[0;34m\u001b[0m\u001b[0m\n",
      "\u001b[0;32m~/opt/anaconda3/lib/python3.9/site-packages/pandas/_libs/index.pyx\u001b[0m in \u001b[0;36mpandas._libs.index.IndexEngine.get_loc\u001b[0;34m()\u001b[0m\n",
      "\u001b[0;32m~/opt/anaconda3/lib/python3.9/site-packages/pandas/_libs/index.pyx\u001b[0m in \u001b[0;36mpandas._libs.index.IndexEngine.get_loc\u001b[0;34m()\u001b[0m\n",
      "\u001b[0;32mpandas/_libs/hashtable_class_helper.pxi\u001b[0m in \u001b[0;36mpandas._libs.hashtable.PyObjectHashTable.get_item\u001b[0;34m()\u001b[0m\n",
      "\u001b[0;32mpandas/_libs/hashtable_class_helper.pxi\u001b[0m in \u001b[0;36mpandas._libs.hashtable.PyObjectHashTable.get_item\u001b[0;34m()\u001b[0m\n",
      "\u001b[0;31mKeyError\u001b[0m: 'L2F'",
      "\nThe above exception was the direct cause of the following exception:\n",
      "\u001b[0;31mKeyError\u001b[0m                                  Traceback (most recent call last)",
      "\u001b[0;32m/var/folders/sb/spq6ttjd6fx2m3p4bpcb39wh0000gn/T/ipykernel_81032/2086258455.py\u001b[0m in \u001b[0;36m<module>\u001b[0;34m\u001b[0m\n\u001b[0;32m----> 1\u001b[0;31m \u001b[0mx\u001b[0m \u001b[0;34m=\u001b[0m \u001b[0mcounts_processed\u001b[0m\u001b[0;34m[\u001b[0m\u001b[0;34m'L2F'\u001b[0m\u001b[0;34m]\u001b[0m\u001b[0;34m\u001b[0m\u001b[0;34m\u001b[0m\u001b[0m\n\u001b[0m\u001b[1;32m      2\u001b[0m \u001b[0my\u001b[0m \u001b[0;34m=\u001b[0m \u001b[0;34m-\u001b[0m\u001b[0;34m(\u001b[0m\u001b[0mnp\u001b[0m\u001b[0;34m.\u001b[0m\u001b[0mlog10\u001b[0m\u001b[0;34m(\u001b[0m\u001b[0mcounts_processed\u001b[0m\u001b[0;34m[\u001b[0m\u001b[0;34m'p-value'\u001b[0m\u001b[0;34m]\u001b[0m\u001b[0;34m)\u001b[0m\u001b[0;34m)\u001b[0m\u001b[0;34m\u001b[0m\u001b[0;34m\u001b[0m\u001b[0m\n\u001b[1;32m      3\u001b[0m \u001b[0;34m\u001b[0m\u001b[0m\n\u001b[1;32m      4\u001b[0m \u001b[0mplt\u001b[0m\u001b[0;34m.\u001b[0m\u001b[0mscatter\u001b[0m\u001b[0;34m(\u001b[0m\u001b[0mx\u001b[0m\u001b[0;34m,\u001b[0m \u001b[0my\u001b[0m\u001b[0;34m,\u001b[0m \u001b[0ms\u001b[0m\u001b[0;34m=\u001b[0m\u001b[0;36m0.1\u001b[0m\u001b[0;34m)\u001b[0m\u001b[0;34m\u001b[0m\u001b[0;34m\u001b[0m\u001b[0m\n\u001b[1;32m      5\u001b[0m \u001b[0mplt\u001b[0m\u001b[0;34m.\u001b[0m\u001b[0mshow\u001b[0m\u001b[0;34m(\u001b[0m\u001b[0;34m)\u001b[0m\u001b[0;34m\u001b[0m\u001b[0;34m\u001b[0m\u001b[0m\n",
      "\u001b[0;32m~/opt/anaconda3/lib/python3.9/site-packages/pandas/core/frame.py\u001b[0m in \u001b[0;36m__getitem__\u001b[0;34m(self, key)\u001b[0m\n\u001b[1;32m   3456\u001b[0m             \u001b[0;32mif\u001b[0m \u001b[0mself\u001b[0m\u001b[0;34m.\u001b[0m\u001b[0mcolumns\u001b[0m\u001b[0;34m.\u001b[0m\u001b[0mnlevels\u001b[0m \u001b[0;34m>\u001b[0m \u001b[0;36m1\u001b[0m\u001b[0;34m:\u001b[0m\u001b[0;34m\u001b[0m\u001b[0;34m\u001b[0m\u001b[0m\n\u001b[1;32m   3457\u001b[0m                 \u001b[0;32mreturn\u001b[0m \u001b[0mself\u001b[0m\u001b[0;34m.\u001b[0m\u001b[0m_getitem_multilevel\u001b[0m\u001b[0;34m(\u001b[0m\u001b[0mkey\u001b[0m\u001b[0;34m)\u001b[0m\u001b[0;34m\u001b[0m\u001b[0;34m\u001b[0m\u001b[0m\n\u001b[0;32m-> 3458\u001b[0;31m             \u001b[0mindexer\u001b[0m \u001b[0;34m=\u001b[0m \u001b[0mself\u001b[0m\u001b[0;34m.\u001b[0m\u001b[0mcolumns\u001b[0m\u001b[0;34m.\u001b[0m\u001b[0mget_loc\u001b[0m\u001b[0;34m(\u001b[0m\u001b[0mkey\u001b[0m\u001b[0;34m)\u001b[0m\u001b[0;34m\u001b[0m\u001b[0;34m\u001b[0m\u001b[0m\n\u001b[0m\u001b[1;32m   3459\u001b[0m             \u001b[0;32mif\u001b[0m \u001b[0mis_integer\u001b[0m\u001b[0;34m(\u001b[0m\u001b[0mindexer\u001b[0m\u001b[0;34m)\u001b[0m\u001b[0;34m:\u001b[0m\u001b[0;34m\u001b[0m\u001b[0;34m\u001b[0m\u001b[0m\n\u001b[1;32m   3460\u001b[0m                 \u001b[0mindexer\u001b[0m \u001b[0;34m=\u001b[0m \u001b[0;34m[\u001b[0m\u001b[0mindexer\u001b[0m\u001b[0;34m]\u001b[0m\u001b[0;34m\u001b[0m\u001b[0;34m\u001b[0m\u001b[0m\n",
      "\u001b[0;32m~/opt/anaconda3/lib/python3.9/site-packages/pandas/core/indexes/base.py\u001b[0m in \u001b[0;36mget_loc\u001b[0;34m(self, key, method, tolerance)\u001b[0m\n\u001b[1;32m   3361\u001b[0m                 \u001b[0;32mreturn\u001b[0m \u001b[0mself\u001b[0m\u001b[0;34m.\u001b[0m\u001b[0m_engine\u001b[0m\u001b[0;34m.\u001b[0m\u001b[0mget_loc\u001b[0m\u001b[0;34m(\u001b[0m\u001b[0mcasted_key\u001b[0m\u001b[0;34m)\u001b[0m\u001b[0;34m\u001b[0m\u001b[0;34m\u001b[0m\u001b[0m\n\u001b[1;32m   3362\u001b[0m             \u001b[0;32mexcept\u001b[0m \u001b[0mKeyError\u001b[0m \u001b[0;32mas\u001b[0m \u001b[0merr\u001b[0m\u001b[0;34m:\u001b[0m\u001b[0;34m\u001b[0m\u001b[0;34m\u001b[0m\u001b[0m\n\u001b[0;32m-> 3363\u001b[0;31m                 \u001b[0;32mraise\u001b[0m \u001b[0mKeyError\u001b[0m\u001b[0;34m(\u001b[0m\u001b[0mkey\u001b[0m\u001b[0;34m)\u001b[0m \u001b[0;32mfrom\u001b[0m \u001b[0merr\u001b[0m\u001b[0;34m\u001b[0m\u001b[0;34m\u001b[0m\u001b[0m\n\u001b[0m\u001b[1;32m   3364\u001b[0m \u001b[0;34m\u001b[0m\u001b[0m\n\u001b[1;32m   3365\u001b[0m         \u001b[0;32mif\u001b[0m \u001b[0mis_scalar\u001b[0m\u001b[0;34m(\u001b[0m\u001b[0mkey\u001b[0m\u001b[0;34m)\u001b[0m \u001b[0;32mand\u001b[0m \u001b[0misna\u001b[0m\u001b[0;34m(\u001b[0m\u001b[0mkey\u001b[0m\u001b[0;34m)\u001b[0m \u001b[0;32mand\u001b[0m \u001b[0;32mnot\u001b[0m \u001b[0mself\u001b[0m\u001b[0;34m.\u001b[0m\u001b[0mhasnans\u001b[0m\u001b[0;34m:\u001b[0m\u001b[0;34m\u001b[0m\u001b[0;34m\u001b[0m\u001b[0m\n",
      "\u001b[0;31mKeyError\u001b[0m: 'L2F'"
     ]
    }
   ],
   "source": [
    "# Make scatter plot with x and y axis\n",
    "x = counts_processed['L2F']\n",
    "y = -(np.log10(counts_processed['p-value']))\n",
    "# Print check\n",
    "plt.scatter(x, y, s=0.1)\n",
    "plt.show()"
   ]
  },
  {
   "cell_type": "markdown",
   "id": "dff89c1b",
   "metadata": {},
   "source": [
    "### Conclusion\n",
    "\n",
    "Throughout this project, there were a few errors along the way that hindered the results from both bioinformatics method from being plotted. For the first bioinformatics method, although the BLAST search ran excellently, the final code to annotate the BLAST hit and provide a table with the annotations for some reason refuse to run or appear. For the second bioinformatics method, the protein expression data chosen for analysis was missing a gene length column and also seemed to have already been normalized. In doing so, the functions to calculate the FPKM were unable to be ran which then trickled down into Log Fold change being unable to be calculated. For the p-value function, apparently throughout our thousands of genes in our protein expression data, a few genes had read counts of zero with then nullified the p-value function because dividing by zero would just make the value undefined. I suspect that the zero read values recorded arose from the data being normalized. This would also explain why the read counts imported with decimals as opposed to importing as integers. Without a column for p-values and Log Fold change, the command to produce a volcano was unable to run without the necesary data and thus the results were not able to be plotted."
   ]
  }
 ],
 "metadata": {
  "kernelspec": {
   "display_name": "Python 3 (ipykernel)",
   "language": "python",
   "name": "python3"
  },
  "language_info": {
   "codemirror_mode": {
    "name": "ipython",
    "version": 3
   },
   "file_extension": ".py",
   "mimetype": "text/x-python",
   "name": "python",
   "nbconvert_exporter": "python",
   "pygments_lexer": "ipython3",
   "version": "3.9.7"
  }
 },
 "nbformat": 4,
 "nbformat_minor": 5
}
